{
 "cells": [
  {
   "cell_type": "markdown",
   "metadata": {},
   "source": [
    "# Indicators of Loan Default\n",
    "## by Lucrezia Morvilli\n",
    "\n",
    "## Preliminary Wrangling\n",
    "\n",
    "> I have decided to analyse one of the datasets in the options, **Prosper Loan Data**. It includes data on 100k+ loans, with extensive information and various details on them. \n",
    "> By looking at the Data Dictionary I decided to focus on 12 features of these loans:\n",
    "> - *ListingNumber*: The number that uniquely identifies the listing to the public as displayed on the website.\n",
    "- *ListingCreationDate*: The date the listing was created.\n",
    "- *CreditGrade*: The Credit rating that was assigned at the time the listing went live. Applicable for listings pre-2009 period and will only be populated for those listings.\n",
    "- *Term*: The length of the loan expressed in months.\n",
    "- *LoanStatus*: The current status of the loan: Cancelled,  Chargedoff, Completed, Current, Defaulted, FinalPaymentInProgress, PastDue. The PastDue status will be accompanied by a delinquency bucket.\n",
    "- *ClosedDate*: Closed date is applicable for Cancelled, Completed, Chargedoff and Defaulted loan statuses.\n",
    "- *ProsperRating (numeric)*: The  Prosper Rating assigned at the time the listing was created (applicable for loans originated after July 2009): \n",
    "    -  0 - N/A\n",
    "    -  1 - HR\n",
    "    -  2 - E \n",
    "    -  3 - D\n",
    "    -  4 - C \n",
    "    -  5 - B \n",
    "    -  6 - A \n",
    "    -  7 - AA  \n",
    "- *ProsperScore*: A custom risk score built using historical Prosper data. The score ranges from 1-10, with 10 being the best, or lowest risk score.  Applicable for loans originated after July 2009.\n",
    "- *ListingCategory*: The category of the listing that the borrower selected when posting their listing: \n",
    "    -  0 - Not Available \n",
    "    -  1 - Debt Consolidation \n",
    "    -  2 - Home Improvement \n",
    "    -  3 - Business \n",
    "    -  4 - Personal Loan \n",
    "    -  5 - Student Use \n",
    "    -  6 - Auto \n",
    "    -  7 - Other \n",
    "    -  8 - Baby&Adoption \n",
    "    -  9 - Boat \n",
    "    -  10 - Cosmetic Procedure \n",
    "    -  11 - Engagement Ring \n",
    "    -  12 - Green Loans \n",
    "    -  13 - Household Expenses \n",
    "    -  14 - Large Purchases \n",
    "    -  15 - Medical/Dental \n",
    "    -  16 - Motorcycle\n",
    "    -  17 - RV \n",
    "    -  18 - Taxes \n",
    "    -  19 - Vacation\n",
    "    -  20 - Wedding Loans\n",
    "- *Occupation*: The Occupation selected by the Borrower at the time they created the listing.\n",
    "- *EmploymentStatus*: The employment status of the borrower at the time they posted the listing.\n",
    "- *IsBorrowerHomeowner*: A Borrower will be classified as a homowner if they have a mortgage on their credit profile or provide documentation confirming they are a homeowner."
   ]
  },
  {
   "cell_type": "code",
   "execution_count": 2,
   "metadata": {},
   "outputs": [],
   "source": [
    "# import all packages and set plots to be embedded inline\n",
    "import numpy as np\n",
    "import pandas as pd\n",
    "import matplotlib.pyplot as plt\n",
    "import seaborn as sb\n",
    "import matplotlib.dates as dates\n",
    "\n",
    "%matplotlib inline"
   ]
  },
  {
   "cell_type": "code",
   "execution_count": 3,
   "metadata": {},
   "outputs": [
    {
     "data": {
      "text/html": [
       "<div>\n",
       "<style scoped>\n",
       "    .dataframe tbody tr th:only-of-type {\n",
       "        vertical-align: middle;\n",
       "    }\n",
       "\n",
       "    .dataframe tbody tr th {\n",
       "        vertical-align: top;\n",
       "    }\n",
       "\n",
       "    .dataframe thead th {\n",
       "        text-align: right;\n",
       "    }\n",
       "</style>\n",
       "<table border=\"1\" class=\"dataframe\">\n",
       "  <thead>\n",
       "    <tr style=\"text-align: right;\">\n",
       "      <th></th>\n",
       "      <th>ListingKey</th>\n",
       "      <th>ListingNumber</th>\n",
       "      <th>ListingCreationDate</th>\n",
       "      <th>CreditGrade</th>\n",
       "      <th>Term</th>\n",
       "      <th>LoanStatus</th>\n",
       "      <th>ClosedDate</th>\n",
       "      <th>BorrowerAPR</th>\n",
       "      <th>BorrowerRate</th>\n",
       "      <th>LenderYield</th>\n",
       "      <th>...</th>\n",
       "      <th>LP_ServiceFees</th>\n",
       "      <th>LP_CollectionFees</th>\n",
       "      <th>LP_GrossPrincipalLoss</th>\n",
       "      <th>LP_NetPrincipalLoss</th>\n",
       "      <th>LP_NonPrincipalRecoverypayments</th>\n",
       "      <th>PercentFunded</th>\n",
       "      <th>Recommendations</th>\n",
       "      <th>InvestmentFromFriendsCount</th>\n",
       "      <th>InvestmentFromFriendsAmount</th>\n",
       "      <th>Investors</th>\n",
       "    </tr>\n",
       "  </thead>\n",
       "  <tbody>\n",
       "    <tr>\n",
       "      <th>0</th>\n",
       "      <td>1021339766868145413AB3B</td>\n",
       "      <td>193129</td>\n",
       "      <td>2007-08-26 19:09:29.263000000</td>\n",
       "      <td>C</td>\n",
       "      <td>36</td>\n",
       "      <td>Completed</td>\n",
       "      <td>2009-08-14 00:00:00</td>\n",
       "      <td>0.16516</td>\n",
       "      <td>0.1580</td>\n",
       "      <td>0.1380</td>\n",
       "      <td>...</td>\n",
       "      <td>-133.18</td>\n",
       "      <td>0.0</td>\n",
       "      <td>0.0</td>\n",
       "      <td>0.0</td>\n",
       "      <td>0.0</td>\n",
       "      <td>1.0</td>\n",
       "      <td>0</td>\n",
       "      <td>0</td>\n",
       "      <td>0.0</td>\n",
       "      <td>258</td>\n",
       "    </tr>\n",
       "    <tr>\n",
       "      <th>1</th>\n",
       "      <td>10273602499503308B223C1</td>\n",
       "      <td>1209647</td>\n",
       "      <td>2014-02-27 08:28:07.900000000</td>\n",
       "      <td>NaN</td>\n",
       "      <td>36</td>\n",
       "      <td>Current</td>\n",
       "      <td>NaN</td>\n",
       "      <td>0.12016</td>\n",
       "      <td>0.0920</td>\n",
       "      <td>0.0820</td>\n",
       "      <td>...</td>\n",
       "      <td>0.00</td>\n",
       "      <td>0.0</td>\n",
       "      <td>0.0</td>\n",
       "      <td>0.0</td>\n",
       "      <td>0.0</td>\n",
       "      <td>1.0</td>\n",
       "      <td>0</td>\n",
       "      <td>0</td>\n",
       "      <td>0.0</td>\n",
       "      <td>1</td>\n",
       "    </tr>\n",
       "    <tr>\n",
       "      <th>2</th>\n",
       "      <td>0EE9337825851032864889A</td>\n",
       "      <td>81716</td>\n",
       "      <td>2007-01-05 15:00:47.090000000</td>\n",
       "      <td>HR</td>\n",
       "      <td>36</td>\n",
       "      <td>Completed</td>\n",
       "      <td>2009-12-17 00:00:00</td>\n",
       "      <td>0.28269</td>\n",
       "      <td>0.2750</td>\n",
       "      <td>0.2400</td>\n",
       "      <td>...</td>\n",
       "      <td>-24.20</td>\n",
       "      <td>0.0</td>\n",
       "      <td>0.0</td>\n",
       "      <td>0.0</td>\n",
       "      <td>0.0</td>\n",
       "      <td>1.0</td>\n",
       "      <td>0</td>\n",
       "      <td>0</td>\n",
       "      <td>0.0</td>\n",
       "      <td>41</td>\n",
       "    </tr>\n",
       "    <tr>\n",
       "      <th>3</th>\n",
       "      <td>0EF5356002482715299901A</td>\n",
       "      <td>658116</td>\n",
       "      <td>2012-10-22 11:02:35.010000000</td>\n",
       "      <td>NaN</td>\n",
       "      <td>36</td>\n",
       "      <td>Current</td>\n",
       "      <td>NaN</td>\n",
       "      <td>0.12528</td>\n",
       "      <td>0.0974</td>\n",
       "      <td>0.0874</td>\n",
       "      <td>...</td>\n",
       "      <td>-108.01</td>\n",
       "      <td>0.0</td>\n",
       "      <td>0.0</td>\n",
       "      <td>0.0</td>\n",
       "      <td>0.0</td>\n",
       "      <td>1.0</td>\n",
       "      <td>0</td>\n",
       "      <td>0</td>\n",
       "      <td>0.0</td>\n",
       "      <td>158</td>\n",
       "    </tr>\n",
       "    <tr>\n",
       "      <th>4</th>\n",
       "      <td>0F023589499656230C5E3E2</td>\n",
       "      <td>909464</td>\n",
       "      <td>2013-09-14 18:38:39.097000000</td>\n",
       "      <td>NaN</td>\n",
       "      <td>36</td>\n",
       "      <td>Current</td>\n",
       "      <td>NaN</td>\n",
       "      <td>0.24614</td>\n",
       "      <td>0.2085</td>\n",
       "      <td>0.1985</td>\n",
       "      <td>...</td>\n",
       "      <td>-60.27</td>\n",
       "      <td>0.0</td>\n",
       "      <td>0.0</td>\n",
       "      <td>0.0</td>\n",
       "      <td>0.0</td>\n",
       "      <td>1.0</td>\n",
       "      <td>0</td>\n",
       "      <td>0</td>\n",
       "      <td>0.0</td>\n",
       "      <td>20</td>\n",
       "    </tr>\n",
       "  </tbody>\n",
       "</table>\n",
       "<p>5 rows × 81 columns</p>\n",
       "</div>"
      ],
      "text/plain": [
       "                ListingKey  ListingNumber            ListingCreationDate  \\\n",
       "0  1021339766868145413AB3B         193129  2007-08-26 19:09:29.263000000   \n",
       "1  10273602499503308B223C1        1209647  2014-02-27 08:28:07.900000000   \n",
       "2  0EE9337825851032864889A          81716  2007-01-05 15:00:47.090000000   \n",
       "3  0EF5356002482715299901A         658116  2012-10-22 11:02:35.010000000   \n",
       "4  0F023589499656230C5E3E2         909464  2013-09-14 18:38:39.097000000   \n",
       "\n",
       "  CreditGrade  Term LoanStatus           ClosedDate  BorrowerAPR  \\\n",
       "0           C    36  Completed  2009-08-14 00:00:00      0.16516   \n",
       "1         NaN    36    Current                  NaN      0.12016   \n",
       "2          HR    36  Completed  2009-12-17 00:00:00      0.28269   \n",
       "3         NaN    36    Current                  NaN      0.12528   \n",
       "4         NaN    36    Current                  NaN      0.24614   \n",
       "\n",
       "   BorrowerRate  LenderYield    ...     LP_ServiceFees  LP_CollectionFees  \\\n",
       "0        0.1580       0.1380    ...            -133.18                0.0   \n",
       "1        0.0920       0.0820    ...               0.00                0.0   \n",
       "2        0.2750       0.2400    ...             -24.20                0.0   \n",
       "3        0.0974       0.0874    ...            -108.01                0.0   \n",
       "4        0.2085       0.1985    ...             -60.27                0.0   \n",
       "\n",
       "   LP_GrossPrincipalLoss  LP_NetPrincipalLoss LP_NonPrincipalRecoverypayments  \\\n",
       "0                    0.0                  0.0                             0.0   \n",
       "1                    0.0                  0.0                             0.0   \n",
       "2                    0.0                  0.0                             0.0   \n",
       "3                    0.0                  0.0                             0.0   \n",
       "4                    0.0                  0.0                             0.0   \n",
       "\n",
       "   PercentFunded  Recommendations InvestmentFromFriendsCount  \\\n",
       "0            1.0                0                          0   \n",
       "1            1.0                0                          0   \n",
       "2            1.0                0                          0   \n",
       "3            1.0                0                          0   \n",
       "4            1.0                0                          0   \n",
       "\n",
       "  InvestmentFromFriendsAmount Investors  \n",
       "0                         0.0       258  \n",
       "1                         0.0         1  \n",
       "2                         0.0        41  \n",
       "3                         0.0       158  \n",
       "4                         0.0        20  \n",
       "\n",
       "[5 rows x 81 columns]"
      ]
     },
     "execution_count": 3,
     "metadata": {},
     "output_type": "execute_result"
    }
   ],
   "source": [
    "# load dataset\n",
    "df = pd.read_csv('prosperLoanData.csv')\n",
    "\n",
    "df.head()"
   ]
  },
  {
   "cell_type": "markdown",
   "metadata": {},
   "source": [
    "> Below I will perform some initial exploratory analysis of the dataset, in order to understand more regarding the type of data it contains."
   ]
  },
  {
   "cell_type": "code",
   "execution_count": 4,
   "metadata": {},
   "outputs": [
    {
     "data": {
      "text/plain": [
       "(113937, 81)"
      ]
     },
     "execution_count": 4,
     "metadata": {},
     "output_type": "execute_result"
    }
   ],
   "source": [
    "df.shape"
   ]
  },
  {
   "cell_type": "code",
   "execution_count": 5,
   "metadata": {},
   "outputs": [
    {
     "name": "stdout",
     "output_type": "stream",
     "text": [
      "<class 'pandas.core.frame.DataFrame'>\n",
      "RangeIndex: 113937 entries, 0 to 113936\n",
      "Data columns (total 81 columns):\n",
      "ListingKey                             113937 non-null object\n",
      "ListingNumber                          113937 non-null int64\n",
      "ListingCreationDate                    113937 non-null object\n",
      "CreditGrade                            28953 non-null object\n",
      "Term                                   113937 non-null int64\n",
      "LoanStatus                             113937 non-null object\n",
      "ClosedDate                             55089 non-null object\n",
      "BorrowerAPR                            113912 non-null float64\n",
      "BorrowerRate                           113937 non-null float64\n",
      "LenderYield                            113937 non-null float64\n",
      "EstimatedEffectiveYield                84853 non-null float64\n",
      "EstimatedLoss                          84853 non-null float64\n",
      "EstimatedReturn                        84853 non-null float64\n",
      "ProsperRating (numeric)                84853 non-null float64\n",
      "ProsperRating (Alpha)                  84853 non-null object\n",
      "ProsperScore                           84853 non-null float64\n",
      "ListingCategory (numeric)              113937 non-null int64\n",
      "BorrowerState                          108422 non-null object\n",
      "Occupation                             110349 non-null object\n",
      "EmploymentStatus                       111682 non-null object\n",
      "EmploymentStatusDuration               106312 non-null float64\n",
      "IsBorrowerHomeowner                    113937 non-null bool\n",
      "CurrentlyInGroup                       113937 non-null bool\n",
      "GroupKey                               13341 non-null object\n",
      "DateCreditPulled                       113937 non-null object\n",
      "CreditScoreRangeLower                  113346 non-null float64\n",
      "CreditScoreRangeUpper                  113346 non-null float64\n",
      "FirstRecordedCreditLine                113240 non-null object\n",
      "CurrentCreditLines                     106333 non-null float64\n",
      "OpenCreditLines                        106333 non-null float64\n",
      "TotalCreditLinespast7years             113240 non-null float64\n",
      "OpenRevolvingAccounts                  113937 non-null int64\n",
      "OpenRevolvingMonthlyPayment            113937 non-null float64\n",
      "InquiriesLast6Months                   113240 non-null float64\n",
      "TotalInquiries                         112778 non-null float64\n",
      "CurrentDelinquencies                   113240 non-null float64\n",
      "AmountDelinquent                       106315 non-null float64\n",
      "DelinquenciesLast7Years                112947 non-null float64\n",
      "PublicRecordsLast10Years               113240 non-null float64\n",
      "PublicRecordsLast12Months              106333 non-null float64\n",
      "RevolvingCreditBalance                 106333 non-null float64\n",
      "BankcardUtilization                    106333 non-null float64\n",
      "AvailableBankcardCredit                106393 non-null float64\n",
      "TotalTrades                            106393 non-null float64\n",
      "TradesNeverDelinquent (percentage)     106393 non-null float64\n",
      "TradesOpenedLast6Months                106393 non-null float64\n",
      "DebtToIncomeRatio                      105383 non-null float64\n",
      "IncomeRange                            113937 non-null object\n",
      "IncomeVerifiable                       113937 non-null bool\n",
      "StatedMonthlyIncome                    113937 non-null float64\n",
      "LoanKey                                113937 non-null object\n",
      "TotalProsperLoans                      22085 non-null float64\n",
      "TotalProsperPaymentsBilled             22085 non-null float64\n",
      "OnTimeProsperPayments                  22085 non-null float64\n",
      "ProsperPaymentsLessThanOneMonthLate    22085 non-null float64\n",
      "ProsperPaymentsOneMonthPlusLate        22085 non-null float64\n",
      "ProsperPrincipalBorrowed               22085 non-null float64\n",
      "ProsperPrincipalOutstanding            22085 non-null float64\n",
      "ScorexChangeAtTimeOfListing            18928 non-null float64\n",
      "LoanCurrentDaysDelinquent              113937 non-null int64\n",
      "LoanFirstDefaultedCycleNumber          16952 non-null float64\n",
      "LoanMonthsSinceOrigination             113937 non-null int64\n",
      "LoanNumber                             113937 non-null int64\n",
      "LoanOriginalAmount                     113937 non-null int64\n",
      "LoanOriginationDate                    113937 non-null object\n",
      "LoanOriginationQuarter                 113937 non-null object\n",
      "MemberKey                              113937 non-null object\n",
      "MonthlyLoanPayment                     113937 non-null float64\n",
      "LP_CustomerPayments                    113937 non-null float64\n",
      "LP_CustomerPrincipalPayments           113937 non-null float64\n",
      "LP_InterestandFees                     113937 non-null float64\n",
      "LP_ServiceFees                         113937 non-null float64\n",
      "LP_CollectionFees                      113937 non-null float64\n",
      "LP_GrossPrincipalLoss                  113937 non-null float64\n",
      "LP_NetPrincipalLoss                    113937 non-null float64\n",
      "LP_NonPrincipalRecoverypayments        113937 non-null float64\n",
      "PercentFunded                          113937 non-null float64\n",
      "Recommendations                        113937 non-null int64\n",
      "InvestmentFromFriendsCount             113937 non-null int64\n",
      "InvestmentFromFriendsAmount            113937 non-null float64\n",
      "Investors                              113937 non-null int64\n",
      "dtypes: bool(3), float64(50), int64(11), object(17)\n",
      "memory usage: 68.1+ MB\n"
     ]
    }
   ],
   "source": [
    "df.info()"
   ]
  },
  {
   "cell_type": "markdown",
   "metadata": {},
   "source": [
    "## Cleaning ##\n",
    "Here I will define the data I will analyse and perform some quick cleaning actions before looking at loan features."
   ]
  },
  {
   "cell_type": "code",
   "execution_count": 6,
   "metadata": {},
   "outputs": [],
   "source": [
    "# define df that will be analysed\n",
    "df_loans = df[['ListingNumber', 'ListingCreationDate', 'CreditGrade', 'Term', 'LoanStatus', 'ClosedDate', 'ProsperRating (numeric)', 'ProsperScore', 'ListingCategory (numeric)', 'Occupation', 'EmploymentStatus', 'IsBorrowerHomeowner']]"
   ]
  },
  {
   "cell_type": "code",
   "execution_count": 7,
   "metadata": {},
   "outputs": [
    {
     "data": {
      "text/plain": [
       "(113937, 12)"
      ]
     },
     "execution_count": 7,
     "metadata": {},
     "output_type": "execute_result"
    }
   ],
   "source": [
    "df_loans.shape"
   ]
  },
  {
   "cell_type": "code",
   "execution_count": 8,
   "metadata": {},
   "outputs": [
    {
     "data": {
      "text/plain": [
       "Other                                 28617\n",
       "Professional                          13628\n",
       "Computer Programmer                    4478\n",
       "Executive                              4311\n",
       "Teacher                                3759\n",
       "Administrative Assistant               3688\n",
       "Analyst                                3602\n",
       "Sales - Commission                     3446\n",
       "Accountant/CPA                         3233\n",
       "Clerical                               3164\n",
       "Sales - Retail                         2797\n",
       "Skilled Labor                          2746\n",
       "Retail Management                      2602\n",
       "Nurse (RN)                             2489\n",
       "Construction                           1790\n",
       "Truck Driver                           1675\n",
       "Laborer                                1595\n",
       "Police Officer/Correction Officer      1578\n",
       "Civil Service                          1457\n",
       "Engineer - Mechanical                  1406\n",
       "Military Enlisted                      1272\n",
       "Food Service Management                1239\n",
       "Engineer - Electrical                  1125\n",
       "Food Service                           1123\n",
       "Medical Technician                     1117\n",
       "Attorney                               1046\n",
       "Tradesman - Mechanic                    951\n",
       "Social Worker                           741\n",
       "Postal Service                          627\n",
       "Professor                               557\n",
       "                                      ...  \n",
       "Scientist                               372\n",
       "Military Officer                        346\n",
       "Bus Driver                              316\n",
       "Principal                               312\n",
       "Teacher's Aide                          276\n",
       "Pharmacist                              257\n",
       "Student - College Graduate Student      245\n",
       "Landscaping                             236\n",
       "Engineer - Chemical                     225\n",
       "Investor                                214\n",
       "Architect                               213\n",
       "Pilot - Private/Commercial              199\n",
       "Clergy                                  196\n",
       "Student - College Senior                188\n",
       "Car Dealer                              180\n",
       "Chemist                                 145\n",
       "Psychologist                            145\n",
       "Biologist                               125\n",
       "Religious                               124\n",
       "Flight Attendant                        123\n",
       "Homemaker                               120\n",
       "Tradesman - Carpenter                   120\n",
       "Student - College Junior                112\n",
       "Tradesman - Plumber                     102\n",
       "Student - College Sophomore              69\n",
       "Dentist                                  68\n",
       "Student - College Freshman               41\n",
       "Student - Community College              28\n",
       "Judge                                    22\n",
       "Student - Technical School               16\n",
       "Name: Occupation, Length: 67, dtype: int64"
      ]
     },
     "execution_count": 8,
     "metadata": {},
     "output_type": "execute_result"
    }
   ],
   "source": [
    "df_loans.Occupation.value_counts()"
   ]
  },
  {
   "cell_type": "code",
   "execution_count": 9,
   "metadata": {},
   "outputs": [
    {
     "data": {
      "text/plain": [
       "67"
      ]
     },
     "execution_count": 9,
     "metadata": {},
     "output_type": "execute_result"
    }
   ],
   "source": [
    "df_loans.Occupation.nunique()"
   ]
  },
  {
   "cell_type": "code",
   "execution_count": 10,
   "metadata": {},
   "outputs": [
    {
     "data": {
      "text/plain": [
       "Employed         67322\n",
       "Full-time        26355\n",
       "Self-employed     6134\n",
       "Not available     5347\n",
       "Other             3806\n",
       "Part-time         1088\n",
       "Not employed       835\n",
       "Retired            795\n",
       "Name: EmploymentStatus, dtype: int64"
      ]
     },
     "execution_count": 10,
     "metadata": {},
     "output_type": "execute_result"
    }
   ],
   "source": [
    "df_loans.EmploymentStatus.value_counts()"
   ]
  },
  {
   "cell_type": "code",
   "execution_count": 11,
   "metadata": {},
   "outputs": [
    {
     "data": {
      "text/plain": [
       "C     5649\n",
       "D     5153\n",
       "B     4389\n",
       "AA    3509\n",
       "HR    3508\n",
       "A     3315\n",
       "E     3289\n",
       "NC     141\n",
       "Name: CreditGrade, dtype: int64"
      ]
     },
     "execution_count": 11,
     "metadata": {},
     "output_type": "execute_result"
    }
   ],
   "source": [
    "df_loans.CreditGrade.value_counts()"
   ]
  },
  {
   "cell_type": "code",
   "execution_count": 12,
   "metadata": {},
   "outputs": [
    {
     "data": {
      "text/plain": [
       "871"
      ]
     },
     "execution_count": 12,
     "metadata": {},
     "output_type": "execute_result"
    }
   ],
   "source": [
    "df_loans['ListingNumber'].duplicated().sum()"
   ]
  },
  {
   "cell_type": "code",
   "execution_count": 13,
   "metadata": {},
   "outputs": [
    {
     "data": {
      "text/html": [
       "<div>\n",
       "<style scoped>\n",
       "    .dataframe tbody tr th:only-of-type {\n",
       "        vertical-align: middle;\n",
       "    }\n",
       "\n",
       "    .dataframe tbody tr th {\n",
       "        vertical-align: top;\n",
       "    }\n",
       "\n",
       "    .dataframe thead th {\n",
       "        text-align: right;\n",
       "    }\n",
       "</style>\n",
       "<table border=\"1\" class=\"dataframe\">\n",
       "  <thead>\n",
       "    <tr style=\"text-align: right;\">\n",
       "      <th></th>\n",
       "      <th>ListingNumber</th>\n",
       "      <th>ListingCreationDate</th>\n",
       "      <th>CreditGrade</th>\n",
       "      <th>Term</th>\n",
       "      <th>LoanStatus</th>\n",
       "      <th>ClosedDate</th>\n",
       "      <th>ProsperRating (numeric)</th>\n",
       "      <th>ProsperScore</th>\n",
       "      <th>ListingCategory (numeric)</th>\n",
       "      <th>Occupation</th>\n",
       "      <th>EmploymentStatus</th>\n",
       "      <th>IsBorrowerHomeowner</th>\n",
       "    </tr>\n",
       "  </thead>\n",
       "  <tbody>\n",
       "    <tr>\n",
       "      <th>8</th>\n",
       "      <td>1023355</td>\n",
       "      <td>2013-12-02 10:43:39.117000000</td>\n",
       "      <td>NaN</td>\n",
       "      <td>36</td>\n",
       "      <td>Current</td>\n",
       "      <td>NaN</td>\n",
       "      <td>7.0</td>\n",
       "      <td>9.0</td>\n",
       "      <td>7</td>\n",
       "      <td>Food Service</td>\n",
       "      <td>Employed</td>\n",
       "      <td>True</td>\n",
       "    </tr>\n",
       "    <tr>\n",
       "      <th>9</th>\n",
       "      <td>1023355</td>\n",
       "      <td>2013-12-02 10:43:39.117000000</td>\n",
       "      <td>NaN</td>\n",
       "      <td>36</td>\n",
       "      <td>Current</td>\n",
       "      <td>NaN</td>\n",
       "      <td>7.0</td>\n",
       "      <td>11.0</td>\n",
       "      <td>7</td>\n",
       "      <td>Food Service</td>\n",
       "      <td>Employed</td>\n",
       "      <td>True</td>\n",
       "    </tr>\n",
       "  </tbody>\n",
       "</table>\n",
       "</div>"
      ],
      "text/plain": [
       "   ListingNumber            ListingCreationDate CreditGrade  Term LoanStatus  \\\n",
       "8        1023355  2013-12-02 10:43:39.117000000         NaN    36    Current   \n",
       "9        1023355  2013-12-02 10:43:39.117000000         NaN    36    Current   \n",
       "\n",
       "  ClosedDate  ProsperRating (numeric)  ProsperScore  \\\n",
       "8        NaN                      7.0           9.0   \n",
       "9        NaN                      7.0          11.0   \n",
       "\n",
       "   ListingCategory (numeric)    Occupation EmploymentStatus  \\\n",
       "8                          7  Food Service         Employed   \n",
       "9                          7  Food Service         Employed   \n",
       "\n",
       "   IsBorrowerHomeowner  \n",
       "8                 True  \n",
       "9                 True  "
      ]
     },
     "execution_count": 13,
     "metadata": {},
     "output_type": "execute_result"
    }
   ],
   "source": [
    "#checking one duplicate listing\n",
    "df_loans[df_loans['ListingNumber']==1023355]"
   ]
  },
  {
   "cell_type": "code",
   "execution_count": 14,
   "metadata": {},
   "outputs": [
    {
     "data": {
      "text/html": [
       "<div>\n",
       "<style scoped>\n",
       "    .dataframe tbody tr th:only-of-type {\n",
       "        vertical-align: middle;\n",
       "    }\n",
       "\n",
       "    .dataframe tbody tr th {\n",
       "        vertical-align: top;\n",
       "    }\n",
       "\n",
       "    .dataframe thead th {\n",
       "        text-align: right;\n",
       "    }\n",
       "</style>\n",
       "<table border=\"1\" class=\"dataframe\">\n",
       "  <thead>\n",
       "    <tr style=\"text-align: right;\">\n",
       "      <th></th>\n",
       "      <th>ListingNumber</th>\n",
       "      <th>ListingCreationDate</th>\n",
       "      <th>CreditGrade</th>\n",
       "      <th>Term</th>\n",
       "      <th>LoanStatus</th>\n",
       "      <th>ClosedDate</th>\n",
       "      <th>ProsperRating (numeric)</th>\n",
       "      <th>ProsperScore</th>\n",
       "      <th>ListingCategory (numeric)</th>\n",
       "      <th>Occupation</th>\n",
       "      <th>EmploymentStatus</th>\n",
       "      <th>IsBorrowerHomeowner</th>\n",
       "    </tr>\n",
       "  </thead>\n",
       "  <tbody>\n",
       "    <tr>\n",
       "      <th>9</th>\n",
       "      <td>1023355</td>\n",
       "      <td>2013-12-02 10:43:39.117000000</td>\n",
       "      <td>NaN</td>\n",
       "      <td>36</td>\n",
       "      <td>Current</td>\n",
       "      <td>NaN</td>\n",
       "      <td>7.0</td>\n",
       "      <td>11.0</td>\n",
       "      <td>7</td>\n",
       "      <td>Food Service</td>\n",
       "      <td>Employed</td>\n",
       "      <td>True</td>\n",
       "    </tr>\n",
       "    <tr>\n",
       "      <th>69</th>\n",
       "      <td>1162592</td>\n",
       "      <td>2014-01-25 12:07:54.537000000</td>\n",
       "      <td>NaN</td>\n",
       "      <td>60</td>\n",
       "      <td>Current</td>\n",
       "      <td>NaN</td>\n",
       "      <td>6.0</td>\n",
       "      <td>11.0</td>\n",
       "      <td>1</td>\n",
       "      <td>Investor</td>\n",
       "      <td>Self-employed</td>\n",
       "      <td>True</td>\n",
       "    </tr>\n",
       "    <tr>\n",
       "      <th>158</th>\n",
       "      <td>1202850</td>\n",
       "      <td>2014-02-12 16:31:25.340000000</td>\n",
       "      <td>NaN</td>\n",
       "      <td>36</td>\n",
       "      <td>Current</td>\n",
       "      <td>NaN</td>\n",
       "      <td>7.0</td>\n",
       "      <td>11.0</td>\n",
       "      <td>6</td>\n",
       "      <td>Tradesman - Mechanic</td>\n",
       "      <td>Employed</td>\n",
       "      <td>False</td>\n",
       "    </tr>\n",
       "    <tr>\n",
       "      <th>224</th>\n",
       "      <td>1130508</td>\n",
       "      <td>2014-01-10 07:24:44.853000000</td>\n",
       "      <td>NaN</td>\n",
       "      <td>36</td>\n",
       "      <td>Current</td>\n",
       "      <td>NaN</td>\n",
       "      <td>6.0</td>\n",
       "      <td>11.0</td>\n",
       "      <td>1</td>\n",
       "      <td>Sales - Commission</td>\n",
       "      <td>Employed</td>\n",
       "      <td>True</td>\n",
       "    </tr>\n",
       "    <tr>\n",
       "      <th>236</th>\n",
       "      <td>973657</td>\n",
       "      <td>2013-11-02 01:29:09.810000000</td>\n",
       "      <td>NaN</td>\n",
       "      <td>36</td>\n",
       "      <td>Current</td>\n",
       "      <td>NaN</td>\n",
       "      <td>7.0</td>\n",
       "      <td>11.0</td>\n",
       "      <td>1</td>\n",
       "      <td>Tradesman - Mechanic</td>\n",
       "      <td>Employed</td>\n",
       "      <td>True</td>\n",
       "    </tr>\n",
       "    <tr>\n",
       "      <th>277</th>\n",
       "      <td>1220331</td>\n",
       "      <td>2014-02-18 12:59:08.680000000</td>\n",
       "      <td>NaN</td>\n",
       "      <td>60</td>\n",
       "      <td>Current</td>\n",
       "      <td>NaN</td>\n",
       "      <td>5.0</td>\n",
       "      <td>11.0</td>\n",
       "      <td>1</td>\n",
       "      <td>Other</td>\n",
       "      <td>Full-time</td>\n",
       "      <td>False</td>\n",
       "    </tr>\n",
       "    <tr>\n",
       "      <th>476</th>\n",
       "      <td>1244304</td>\n",
       "      <td>2014-03-06 08:54:42.840000000</td>\n",
       "      <td>NaN</td>\n",
       "      <td>60</td>\n",
       "      <td>Current</td>\n",
       "      <td>NaN</td>\n",
       "      <td>5.0</td>\n",
       "      <td>11.0</td>\n",
       "      <td>1</td>\n",
       "      <td>Other</td>\n",
       "      <td>Employed</td>\n",
       "      <td>False</td>\n",
       "    </tr>\n",
       "    <tr>\n",
       "      <th>491</th>\n",
       "      <td>1116282</td>\n",
       "      <td>2014-01-06 07:18:54.173000000</td>\n",
       "      <td>NaN</td>\n",
       "      <td>60</td>\n",
       "      <td>Current</td>\n",
       "      <td>NaN</td>\n",
       "      <td>5.0</td>\n",
       "      <td>11.0</td>\n",
       "      <td>1</td>\n",
       "      <td>Analyst</td>\n",
       "      <td>Employed</td>\n",
       "      <td>True</td>\n",
       "    </tr>\n",
       "    <tr>\n",
       "      <th>532</th>\n",
       "      <td>1150992</td>\n",
       "      <td>2014-01-20 10:51:29.120000000</td>\n",
       "      <td>NaN</td>\n",
       "      <td>36</td>\n",
       "      <td>Current</td>\n",
       "      <td>NaN</td>\n",
       "      <td>6.0</td>\n",
       "      <td>11.0</td>\n",
       "      <td>1</td>\n",
       "      <td>NaN</td>\n",
       "      <td>Other</td>\n",
       "      <td>True</td>\n",
       "    </tr>\n",
       "    <tr>\n",
       "      <th>554</th>\n",
       "      <td>1054630</td>\n",
       "      <td>2013-12-17 22:15:59.470000000</td>\n",
       "      <td>NaN</td>\n",
       "      <td>60</td>\n",
       "      <td>Current</td>\n",
       "      <td>NaN</td>\n",
       "      <td>7.0</td>\n",
       "      <td>11.0</td>\n",
       "      <td>7</td>\n",
       "      <td>Other</td>\n",
       "      <td>Employed</td>\n",
       "      <td>True</td>\n",
       "    </tr>\n",
       "    <tr>\n",
       "      <th>633</th>\n",
       "      <td>1079885</td>\n",
       "      <td>2013-12-15 12:25:42.193000000</td>\n",
       "      <td>NaN</td>\n",
       "      <td>36</td>\n",
       "      <td>Current</td>\n",
       "      <td>NaN</td>\n",
       "      <td>6.0</td>\n",
       "      <td>11.0</td>\n",
       "      <td>1</td>\n",
       "      <td>Analyst</td>\n",
       "      <td>Employed</td>\n",
       "      <td>True</td>\n",
       "    </tr>\n",
       "    <tr>\n",
       "      <th>690</th>\n",
       "      <td>991235</td>\n",
       "      <td>2013-11-03 08:48:26.140000000</td>\n",
       "      <td>NaN</td>\n",
       "      <td>60</td>\n",
       "      <td>Current</td>\n",
       "      <td>NaN</td>\n",
       "      <td>6.0</td>\n",
       "      <td>11.0</td>\n",
       "      <td>2</td>\n",
       "      <td>Other</td>\n",
       "      <td>Employed</td>\n",
       "      <td>True</td>\n",
       "    </tr>\n",
       "    <tr>\n",
       "      <th>765</th>\n",
       "      <td>1022836</td>\n",
       "      <td>2013-12-02 07:36:43.197000000</td>\n",
       "      <td>NaN</td>\n",
       "      <td>60</td>\n",
       "      <td>Current</td>\n",
       "      <td>NaN</td>\n",
       "      <td>5.0</td>\n",
       "      <td>11.0</td>\n",
       "      <td>1</td>\n",
       "      <td>Computer Programmer</td>\n",
       "      <td>Employed</td>\n",
       "      <td>True</td>\n",
       "    </tr>\n",
       "    <tr>\n",
       "      <th>771</th>\n",
       "      <td>993658</td>\n",
       "      <td>2013-11-13 19:46:34.570000000</td>\n",
       "      <td>NaN</td>\n",
       "      <td>36</td>\n",
       "      <td>Current</td>\n",
       "      <td>NaN</td>\n",
       "      <td>7.0</td>\n",
       "      <td>11.0</td>\n",
       "      <td>1</td>\n",
       "      <td>Nurse (RN)</td>\n",
       "      <td>Employed</td>\n",
       "      <td>True</td>\n",
       "    </tr>\n",
       "    <tr>\n",
       "      <th>854</th>\n",
       "      <td>1082097</td>\n",
       "      <td>2013-12-12 11:08:56.630000000</td>\n",
       "      <td>NaN</td>\n",
       "      <td>60</td>\n",
       "      <td>Current</td>\n",
       "      <td>NaN</td>\n",
       "      <td>6.0</td>\n",
       "      <td>11.0</td>\n",
       "      <td>1</td>\n",
       "      <td>Professional</td>\n",
       "      <td>Employed</td>\n",
       "      <td>False</td>\n",
       "    </tr>\n",
       "    <tr>\n",
       "      <th>890</th>\n",
       "      <td>1137096</td>\n",
       "      <td>2014-01-14 09:02:45.567000000</td>\n",
       "      <td>NaN</td>\n",
       "      <td>60</td>\n",
       "      <td>Current</td>\n",
       "      <td>NaN</td>\n",
       "      <td>5.0</td>\n",
       "      <td>11.0</td>\n",
       "      <td>3</td>\n",
       "      <td>Other</td>\n",
       "      <td>Employed</td>\n",
       "      <td>True</td>\n",
       "    </tr>\n",
       "    <tr>\n",
       "      <th>901</th>\n",
       "      <td>1026799</td>\n",
       "      <td>2013-12-03 00:36:12.727000000</td>\n",
       "      <td>NaN</td>\n",
       "      <td>60</td>\n",
       "      <td>Current</td>\n",
       "      <td>NaN</td>\n",
       "      <td>6.0</td>\n",
       "      <td>11.0</td>\n",
       "      <td>2</td>\n",
       "      <td>Professional</td>\n",
       "      <td>Employed</td>\n",
       "      <td>True</td>\n",
       "    </tr>\n",
       "    <tr>\n",
       "      <th>1017</th>\n",
       "      <td>1236380</td>\n",
       "      <td>2014-03-06 03:45:19.167000000</td>\n",
       "      <td>NaN</td>\n",
       "      <td>36</td>\n",
       "      <td>Current</td>\n",
       "      <td>NaN</td>\n",
       "      <td>7.0</td>\n",
       "      <td>11.0</td>\n",
       "      <td>1</td>\n",
       "      <td>NaN</td>\n",
       "      <td>Other</td>\n",
       "      <td>True</td>\n",
       "    </tr>\n",
       "    <tr>\n",
       "      <th>1085</th>\n",
       "      <td>1079667</td>\n",
       "      <td>2013-12-12 03:37:30.163000000</td>\n",
       "      <td>NaN</td>\n",
       "      <td>36</td>\n",
       "      <td>Current</td>\n",
       "      <td>NaN</td>\n",
       "      <td>7.0</td>\n",
       "      <td>11.0</td>\n",
       "      <td>1</td>\n",
       "      <td>Sales - Retail</td>\n",
       "      <td>Employed</td>\n",
       "      <td>True</td>\n",
       "    </tr>\n",
       "    <tr>\n",
       "      <th>1153</th>\n",
       "      <td>1086246</td>\n",
       "      <td>2013-12-13 01:35:00.870000000</td>\n",
       "      <td>NaN</td>\n",
       "      <td>36</td>\n",
       "      <td>Current</td>\n",
       "      <td>NaN</td>\n",
       "      <td>7.0</td>\n",
       "      <td>11.0</td>\n",
       "      <td>1</td>\n",
       "      <td>Other</td>\n",
       "      <td>Employed</td>\n",
       "      <td>True</td>\n",
       "    </tr>\n",
       "    <tr>\n",
       "      <th>1460</th>\n",
       "      <td>998145</td>\n",
       "      <td>2013-10-23 07:34:42.750000000</td>\n",
       "      <td>NaN</td>\n",
       "      <td>36</td>\n",
       "      <td>Current</td>\n",
       "      <td>NaN</td>\n",
       "      <td>6.0</td>\n",
       "      <td>11.0</td>\n",
       "      <td>1</td>\n",
       "      <td>Analyst</td>\n",
       "      <td>Employed</td>\n",
       "      <td>False</td>\n",
       "    </tr>\n",
       "    <tr>\n",
       "      <th>1842</th>\n",
       "      <td>1192663</td>\n",
       "      <td>2014-03-03 10:18:08.083000000</td>\n",
       "      <td>NaN</td>\n",
       "      <td>36</td>\n",
       "      <td>Current</td>\n",
       "      <td>NaN</td>\n",
       "      <td>7.0</td>\n",
       "      <td>11.0</td>\n",
       "      <td>13</td>\n",
       "      <td>Analyst</td>\n",
       "      <td>Employed</td>\n",
       "      <td>True</td>\n",
       "    </tr>\n",
       "    <tr>\n",
       "      <th>1892</th>\n",
       "      <td>1054235</td>\n",
       "      <td>2013-12-05 12:28:21.723000000</td>\n",
       "      <td>NaN</td>\n",
       "      <td>36</td>\n",
       "      <td>Current</td>\n",
       "      <td>NaN</td>\n",
       "      <td>6.0</td>\n",
       "      <td>11.0</td>\n",
       "      <td>2</td>\n",
       "      <td>Computer Programmer</td>\n",
       "      <td>Employed</td>\n",
       "      <td>True</td>\n",
       "    </tr>\n",
       "    <tr>\n",
       "      <th>1962</th>\n",
       "      <td>911082</td>\n",
       "      <td>2013-09-19 11:47:58.917000000</td>\n",
       "      <td>NaN</td>\n",
       "      <td>60</td>\n",
       "      <td>Current</td>\n",
       "      <td>NaN</td>\n",
       "      <td>6.0</td>\n",
       "      <td>11.0</td>\n",
       "      <td>3</td>\n",
       "      <td>Professional</td>\n",
       "      <td>Employed</td>\n",
       "      <td>True</td>\n",
       "    </tr>\n",
       "    <tr>\n",
       "      <th>1972</th>\n",
       "      <td>968697</td>\n",
       "      <td>2013-10-09 15:26:16.583000000</td>\n",
       "      <td>NaN</td>\n",
       "      <td>36</td>\n",
       "      <td>Current</td>\n",
       "      <td>NaN</td>\n",
       "      <td>5.0</td>\n",
       "      <td>11.0</td>\n",
       "      <td>18</td>\n",
       "      <td>Accountant/CPA</td>\n",
       "      <td>Self-employed</td>\n",
       "      <td>True</td>\n",
       "    </tr>\n",
       "    <tr>\n",
       "      <th>2048</th>\n",
       "      <td>1052408</td>\n",
       "      <td>2013-12-05 09:18:30.973000000</td>\n",
       "      <td>NaN</td>\n",
       "      <td>36</td>\n",
       "      <td>Current</td>\n",
       "      <td>NaN</td>\n",
       "      <td>7.0</td>\n",
       "      <td>11.0</td>\n",
       "      <td>1</td>\n",
       "      <td>Professional</td>\n",
       "      <td>Employed</td>\n",
       "      <td>True</td>\n",
       "    </tr>\n",
       "    <tr>\n",
       "      <th>2097</th>\n",
       "      <td>1069756</td>\n",
       "      <td>2013-12-31 10:34:15.973000000</td>\n",
       "      <td>NaN</td>\n",
       "      <td>60</td>\n",
       "      <td>Current</td>\n",
       "      <td>NaN</td>\n",
       "      <td>6.0</td>\n",
       "      <td>11.0</td>\n",
       "      <td>1</td>\n",
       "      <td>Professional</td>\n",
       "      <td>Employed</td>\n",
       "      <td>True</td>\n",
       "    </tr>\n",
       "    <tr>\n",
       "      <th>2181</th>\n",
       "      <td>1107074</td>\n",
       "      <td>2013-12-30 16:58:06.427000000</td>\n",
       "      <td>NaN</td>\n",
       "      <td>60</td>\n",
       "      <td>Current</td>\n",
       "      <td>NaN</td>\n",
       "      <td>4.0</td>\n",
       "      <td>11.0</td>\n",
       "      <td>1</td>\n",
       "      <td>Scientist</td>\n",
       "      <td>Employed</td>\n",
       "      <td>True</td>\n",
       "    </tr>\n",
       "    <tr>\n",
       "      <th>2288</th>\n",
       "      <td>1166956</td>\n",
       "      <td>2014-02-19 14:11:22.497000000</td>\n",
       "      <td>NaN</td>\n",
       "      <td>36</td>\n",
       "      <td>Current</td>\n",
       "      <td>NaN</td>\n",
       "      <td>6.0</td>\n",
       "      <td>11.0</td>\n",
       "      <td>1</td>\n",
       "      <td>Professional</td>\n",
       "      <td>Employed</td>\n",
       "      <td>True</td>\n",
       "    </tr>\n",
       "    <tr>\n",
       "      <th>2487</th>\n",
       "      <td>1026919</td>\n",
       "      <td>2013-12-05 04:50:07.360000000</td>\n",
       "      <td>NaN</td>\n",
       "      <td>36</td>\n",
       "      <td>Current</td>\n",
       "      <td>NaN</td>\n",
       "      <td>7.0</td>\n",
       "      <td>11.0</td>\n",
       "      <td>3</td>\n",
       "      <td>Computer Programmer</td>\n",
       "      <td>Self-employed</td>\n",
       "      <td>True</td>\n",
       "    </tr>\n",
       "    <tr>\n",
       "      <th>...</th>\n",
       "      <td>...</td>\n",
       "      <td>...</td>\n",
       "      <td>...</td>\n",
       "      <td>...</td>\n",
       "      <td>...</td>\n",
       "      <td>...</td>\n",
       "      <td>...</td>\n",
       "      <td>...</td>\n",
       "      <td>...</td>\n",
       "      <td>...</td>\n",
       "      <td>...</td>\n",
       "      <td>...</td>\n",
       "    </tr>\n",
       "    <tr>\n",
       "      <th>111771</th>\n",
       "      <td>1125892</td>\n",
       "      <td>2014-01-21 14:48:16.600000000</td>\n",
       "      <td>NaN</td>\n",
       "      <td>36</td>\n",
       "      <td>Current</td>\n",
       "      <td>NaN</td>\n",
       "      <td>7.0</td>\n",
       "      <td>11.0</td>\n",
       "      <td>1</td>\n",
       "      <td>Professional</td>\n",
       "      <td>Employed</td>\n",
       "      <td>True</td>\n",
       "    </tr>\n",
       "    <tr>\n",
       "      <th>111890</th>\n",
       "      <td>827053</td>\n",
       "      <td>2013-07-02 14:09:36.273000000</td>\n",
       "      <td>NaN</td>\n",
       "      <td>60</td>\n",
       "      <td>Current</td>\n",
       "      <td>NaN</td>\n",
       "      <td>5.0</td>\n",
       "      <td>11.0</td>\n",
       "      <td>1</td>\n",
       "      <td>Construction</td>\n",
       "      <td>Employed</td>\n",
       "      <td>True</td>\n",
       "    </tr>\n",
       "    <tr>\n",
       "      <th>111938</th>\n",
       "      <td>1005026</td>\n",
       "      <td>2013-11-09 05:52:10.357000000</td>\n",
       "      <td>NaN</td>\n",
       "      <td>60</td>\n",
       "      <td>Current</td>\n",
       "      <td>NaN</td>\n",
       "      <td>5.0</td>\n",
       "      <td>11.0</td>\n",
       "      <td>6</td>\n",
       "      <td>Engineer - Electrical</td>\n",
       "      <td>Employed</td>\n",
       "      <td>False</td>\n",
       "    </tr>\n",
       "    <tr>\n",
       "      <th>112024</th>\n",
       "      <td>1014469</td>\n",
       "      <td>2013-11-22 18:22:02.563000000</td>\n",
       "      <td>NaN</td>\n",
       "      <td>36</td>\n",
       "      <td>Current</td>\n",
       "      <td>NaN</td>\n",
       "      <td>7.0</td>\n",
       "      <td>11.0</td>\n",
       "      <td>20</td>\n",
       "      <td>Professional</td>\n",
       "      <td>Employed</td>\n",
       "      <td>True</td>\n",
       "    </tr>\n",
       "    <tr>\n",
       "      <th>112098</th>\n",
       "      <td>1086346</td>\n",
       "      <td>2014-01-06 06:25:23.533000000</td>\n",
       "      <td>NaN</td>\n",
       "      <td>36</td>\n",
       "      <td>Current</td>\n",
       "      <td>NaN</td>\n",
       "      <td>6.0</td>\n",
       "      <td>11.0</td>\n",
       "      <td>1</td>\n",
       "      <td>Other</td>\n",
       "      <td>Employed</td>\n",
       "      <td>False</td>\n",
       "    </tr>\n",
       "    <tr>\n",
       "      <th>112124</th>\n",
       "      <td>912223</td>\n",
       "      <td>2013-09-19 12:44:10.020000000</td>\n",
       "      <td>NaN</td>\n",
       "      <td>36</td>\n",
       "      <td>Current</td>\n",
       "      <td>NaN</td>\n",
       "      <td>7.0</td>\n",
       "      <td>11.0</td>\n",
       "      <td>1</td>\n",
       "      <td>Accountant/CPA</td>\n",
       "      <td>Employed</td>\n",
       "      <td>True</td>\n",
       "    </tr>\n",
       "    <tr>\n",
       "      <th>112316</th>\n",
       "      <td>1056467</td>\n",
       "      <td>2013-12-05 22:05:04.813000000</td>\n",
       "      <td>NaN</td>\n",
       "      <td>36</td>\n",
       "      <td>Current</td>\n",
       "      <td>NaN</td>\n",
       "      <td>7.0</td>\n",
       "      <td>11.0</td>\n",
       "      <td>1</td>\n",
       "      <td>Police Officer/Correction Officer</td>\n",
       "      <td>Employed</td>\n",
       "      <td>True</td>\n",
       "    </tr>\n",
       "    <tr>\n",
       "      <th>112549</th>\n",
       "      <td>1018934</td>\n",
       "      <td>2013-11-14 19:24:22.833000000</td>\n",
       "      <td>NaN</td>\n",
       "      <td>60</td>\n",
       "      <td>Current</td>\n",
       "      <td>NaN</td>\n",
       "      <td>6.0</td>\n",
       "      <td>11.0</td>\n",
       "      <td>1</td>\n",
       "      <td>Other</td>\n",
       "      <td>Employed</td>\n",
       "      <td>True</td>\n",
       "    </tr>\n",
       "    <tr>\n",
       "      <th>112646</th>\n",
       "      <td>979285</td>\n",
       "      <td>2013-11-04 14:12:13.310000000</td>\n",
       "      <td>NaN</td>\n",
       "      <td>36</td>\n",
       "      <td>Current</td>\n",
       "      <td>NaN</td>\n",
       "      <td>7.0</td>\n",
       "      <td>11.0</td>\n",
       "      <td>13</td>\n",
       "      <td>Doctor</td>\n",
       "      <td>Employed</td>\n",
       "      <td>False</td>\n",
       "    </tr>\n",
       "    <tr>\n",
       "      <th>112653</th>\n",
       "      <td>1146712</td>\n",
       "      <td>2014-02-07 21:40:58.917000000</td>\n",
       "      <td>NaN</td>\n",
       "      <td>36</td>\n",
       "      <td>Current</td>\n",
       "      <td>NaN</td>\n",
       "      <td>7.0</td>\n",
       "      <td>11.0</td>\n",
       "      <td>7</td>\n",
       "      <td>Civil Service</td>\n",
       "      <td>Employed</td>\n",
       "      <td>True</td>\n",
       "    </tr>\n",
       "    <tr>\n",
       "      <th>112684</th>\n",
       "      <td>1027866</td>\n",
       "      <td>2013-11-08 05:04:32.807000000</td>\n",
       "      <td>NaN</td>\n",
       "      <td>60</td>\n",
       "      <td>Current</td>\n",
       "      <td>NaN</td>\n",
       "      <td>5.0</td>\n",
       "      <td>11.0</td>\n",
       "      <td>1</td>\n",
       "      <td>Retail Management</td>\n",
       "      <td>Employed</td>\n",
       "      <td>True</td>\n",
       "    </tr>\n",
       "    <tr>\n",
       "      <th>112774</th>\n",
       "      <td>1091854</td>\n",
       "      <td>2014-01-07 14:18:59.403000000</td>\n",
       "      <td>NaN</td>\n",
       "      <td>36</td>\n",
       "      <td>Current</td>\n",
       "      <td>NaN</td>\n",
       "      <td>7.0</td>\n",
       "      <td>11.0</td>\n",
       "      <td>1</td>\n",
       "      <td>Executive</td>\n",
       "      <td>Employed</td>\n",
       "      <td>True</td>\n",
       "    </tr>\n",
       "    <tr>\n",
       "      <th>112775</th>\n",
       "      <td>1169617</td>\n",
       "      <td>2014-02-19 20:32:03.660000000</td>\n",
       "      <td>NaN</td>\n",
       "      <td>60</td>\n",
       "      <td>Current</td>\n",
       "      <td>NaN</td>\n",
       "      <td>7.0</td>\n",
       "      <td>11.0</td>\n",
       "      <td>1</td>\n",
       "      <td>Other</td>\n",
       "      <td>Employed</td>\n",
       "      <td>False</td>\n",
       "    </tr>\n",
       "    <tr>\n",
       "      <th>112808</th>\n",
       "      <td>1040752</td>\n",
       "      <td>2013-12-09 13:56:51.750000000</td>\n",
       "      <td>NaN</td>\n",
       "      <td>36</td>\n",
       "      <td>Current</td>\n",
       "      <td>NaN</td>\n",
       "      <td>7.0</td>\n",
       "      <td>11.0</td>\n",
       "      <td>1</td>\n",
       "      <td>Pilot - Private/Commercial</td>\n",
       "      <td>Employed</td>\n",
       "      <td>True</td>\n",
       "    </tr>\n",
       "    <tr>\n",
       "      <th>112857</th>\n",
       "      <td>971240</td>\n",
       "      <td>2013-10-28 02:32:23.193000000</td>\n",
       "      <td>NaN</td>\n",
       "      <td>60</td>\n",
       "      <td>Current</td>\n",
       "      <td>NaN</td>\n",
       "      <td>6.0</td>\n",
       "      <td>11.0</td>\n",
       "      <td>1</td>\n",
       "      <td>Computer Programmer</td>\n",
       "      <td>Employed</td>\n",
       "      <td>False</td>\n",
       "    </tr>\n",
       "    <tr>\n",
       "      <th>112909</th>\n",
       "      <td>1032395</td>\n",
       "      <td>2013-11-25 08:06:35.157000000</td>\n",
       "      <td>NaN</td>\n",
       "      <td>60</td>\n",
       "      <td>Current</td>\n",
       "      <td>NaN</td>\n",
       "      <td>6.0</td>\n",
       "      <td>11.0</td>\n",
       "      <td>2</td>\n",
       "      <td>Sales - Retail</td>\n",
       "      <td>Employed</td>\n",
       "      <td>False</td>\n",
       "    </tr>\n",
       "    <tr>\n",
       "      <th>112921</th>\n",
       "      <td>970853</td>\n",
       "      <td>2013-10-24 19:39:25.217000000</td>\n",
       "      <td>NaN</td>\n",
       "      <td>36</td>\n",
       "      <td>Current</td>\n",
       "      <td>NaN</td>\n",
       "      <td>7.0</td>\n",
       "      <td>11.0</td>\n",
       "      <td>1</td>\n",
       "      <td>Executive</td>\n",
       "      <td>Employed</td>\n",
       "      <td>True</td>\n",
       "    </tr>\n",
       "    <tr>\n",
       "      <th>112990</th>\n",
       "      <td>950327</td>\n",
       "      <td>2013-10-11 07:26:59.320000000</td>\n",
       "      <td>NaN</td>\n",
       "      <td>60</td>\n",
       "      <td>Current</td>\n",
       "      <td>NaN</td>\n",
       "      <td>6.0</td>\n",
       "      <td>11.0</td>\n",
       "      <td>1</td>\n",
       "      <td>Professional</td>\n",
       "      <td>Employed</td>\n",
       "      <td>False</td>\n",
       "    </tr>\n",
       "    <tr>\n",
       "      <th>113044</th>\n",
       "      <td>1125301</td>\n",
       "      <td>2014-01-21 13:25:51.740000000</td>\n",
       "      <td>NaN</td>\n",
       "      <td>60</td>\n",
       "      <td>Current</td>\n",
       "      <td>NaN</td>\n",
       "      <td>6.0</td>\n",
       "      <td>11.0</td>\n",
       "      <td>1</td>\n",
       "      <td>Professional</td>\n",
       "      <td>Employed</td>\n",
       "      <td>True</td>\n",
       "    </tr>\n",
       "    <tr>\n",
       "      <th>113167</th>\n",
       "      <td>1197569</td>\n",
       "      <td>2014-02-15 20:36:09.020000000</td>\n",
       "      <td>NaN</td>\n",
       "      <td>36</td>\n",
       "      <td>Current</td>\n",
       "      <td>NaN</td>\n",
       "      <td>6.0</td>\n",
       "      <td>11.0</td>\n",
       "      <td>18</td>\n",
       "      <td>Professional</td>\n",
       "      <td>Employed</td>\n",
       "      <td>True</td>\n",
       "    </tr>\n",
       "    <tr>\n",
       "      <th>113248</th>\n",
       "      <td>1026285</td>\n",
       "      <td>2013-11-06 16:49:49.477000000</td>\n",
       "      <td>NaN</td>\n",
       "      <td>60</td>\n",
       "      <td>Current</td>\n",
       "      <td>NaN</td>\n",
       "      <td>6.0</td>\n",
       "      <td>11.0</td>\n",
       "      <td>2</td>\n",
       "      <td>Sales - Commission</td>\n",
       "      <td>Self-employed</td>\n",
       "      <td>False</td>\n",
       "    </tr>\n",
       "    <tr>\n",
       "      <th>113406</th>\n",
       "      <td>1027883</td>\n",
       "      <td>2013-11-21 20:52:36.510000000</td>\n",
       "      <td>NaN</td>\n",
       "      <td>36</td>\n",
       "      <td>Current</td>\n",
       "      <td>NaN</td>\n",
       "      <td>7.0</td>\n",
       "      <td>11.0</td>\n",
       "      <td>19</td>\n",
       "      <td>Attorney</td>\n",
       "      <td>Employed</td>\n",
       "      <td>False</td>\n",
       "    </tr>\n",
       "    <tr>\n",
       "      <th>113570</th>\n",
       "      <td>1076210</td>\n",
       "      <td>2013-12-14 12:55:45.637000000</td>\n",
       "      <td>NaN</td>\n",
       "      <td>36</td>\n",
       "      <td>Current</td>\n",
       "      <td>NaN</td>\n",
       "      <td>7.0</td>\n",
       "      <td>11.0</td>\n",
       "      <td>1</td>\n",
       "      <td>Attorney</td>\n",
       "      <td>Employed</td>\n",
       "      <td>True</td>\n",
       "    </tr>\n",
       "    <tr>\n",
       "      <th>113706</th>\n",
       "      <td>1018247</td>\n",
       "      <td>2013-11-14 16:21:07.883000000</td>\n",
       "      <td>NaN</td>\n",
       "      <td>36</td>\n",
       "      <td>Current</td>\n",
       "      <td>NaN</td>\n",
       "      <td>6.0</td>\n",
       "      <td>11.0</td>\n",
       "      <td>1</td>\n",
       "      <td>Pharmacist</td>\n",
       "      <td>Employed</td>\n",
       "      <td>False</td>\n",
       "    </tr>\n",
       "    <tr>\n",
       "      <th>113750</th>\n",
       "      <td>1190813</td>\n",
       "      <td>2014-02-13 09:02:27.677000000</td>\n",
       "      <td>NaN</td>\n",
       "      <td>36</td>\n",
       "      <td>Current</td>\n",
       "      <td>NaN</td>\n",
       "      <td>7.0</td>\n",
       "      <td>11.0</td>\n",
       "      <td>2</td>\n",
       "      <td>Civil Service</td>\n",
       "      <td>Employed</td>\n",
       "      <td>True</td>\n",
       "    </tr>\n",
       "    <tr>\n",
       "      <th>113762</th>\n",
       "      <td>1040844</td>\n",
       "      <td>2013-11-18 17:55:25.090000000</td>\n",
       "      <td>NaN</td>\n",
       "      <td>60</td>\n",
       "      <td>Current</td>\n",
       "      <td>NaN</td>\n",
       "      <td>6.0</td>\n",
       "      <td>11.0</td>\n",
       "      <td>20</td>\n",
       "      <td>Other</td>\n",
       "      <td>Employed</td>\n",
       "      <td>True</td>\n",
       "    </tr>\n",
       "    <tr>\n",
       "      <th>113784</th>\n",
       "      <td>1021056</td>\n",
       "      <td>2013-11-05 20:51:45.540000000</td>\n",
       "      <td>NaN</td>\n",
       "      <td>36</td>\n",
       "      <td>Current</td>\n",
       "      <td>NaN</td>\n",
       "      <td>6.0</td>\n",
       "      <td>11.0</td>\n",
       "      <td>1</td>\n",
       "      <td>Other</td>\n",
       "      <td>Employed</td>\n",
       "      <td>True</td>\n",
       "    </tr>\n",
       "    <tr>\n",
       "      <th>113855</th>\n",
       "      <td>1211163</td>\n",
       "      <td>2014-02-15 18:43:57.650000000</td>\n",
       "      <td>NaN</td>\n",
       "      <td>36</td>\n",
       "      <td>Current</td>\n",
       "      <td>NaN</td>\n",
       "      <td>6.0</td>\n",
       "      <td>11.0</td>\n",
       "      <td>3</td>\n",
       "      <td>Food Service Management</td>\n",
       "      <td>Full-time</td>\n",
       "      <td>False</td>\n",
       "    </tr>\n",
       "    <tr>\n",
       "      <th>113881</th>\n",
       "      <td>967344</td>\n",
       "      <td>2013-10-09 10:09:28.530000000</td>\n",
       "      <td>NaN</td>\n",
       "      <td>60</td>\n",
       "      <td>Current</td>\n",
       "      <td>NaN</td>\n",
       "      <td>4.0</td>\n",
       "      <td>11.0</td>\n",
       "      <td>7</td>\n",
       "      <td>Professional</td>\n",
       "      <td>Employed</td>\n",
       "      <td>True</td>\n",
       "    </tr>\n",
       "    <tr>\n",
       "      <th>113912</th>\n",
       "      <td>1083677</td>\n",
       "      <td>2013-12-16 16:36:00.990000000</td>\n",
       "      <td>NaN</td>\n",
       "      <td>36</td>\n",
       "      <td>Current</td>\n",
       "      <td>NaN</td>\n",
       "      <td>7.0</td>\n",
       "      <td>11.0</td>\n",
       "      <td>2</td>\n",
       "      <td>Scientist</td>\n",
       "      <td>Employed</td>\n",
       "      <td>False</td>\n",
       "    </tr>\n",
       "  </tbody>\n",
       "</table>\n",
       "<p>1456 rows × 12 columns</p>\n",
       "</div>"
      ],
      "text/plain": [
       "        ListingNumber            ListingCreationDate CreditGrade  Term  \\\n",
       "9             1023355  2013-12-02 10:43:39.117000000         NaN    36   \n",
       "69            1162592  2014-01-25 12:07:54.537000000         NaN    60   \n",
       "158           1202850  2014-02-12 16:31:25.340000000         NaN    36   \n",
       "224           1130508  2014-01-10 07:24:44.853000000         NaN    36   \n",
       "236            973657  2013-11-02 01:29:09.810000000         NaN    36   \n",
       "277           1220331  2014-02-18 12:59:08.680000000         NaN    60   \n",
       "476           1244304  2014-03-06 08:54:42.840000000         NaN    60   \n",
       "491           1116282  2014-01-06 07:18:54.173000000         NaN    60   \n",
       "532           1150992  2014-01-20 10:51:29.120000000         NaN    36   \n",
       "554           1054630  2013-12-17 22:15:59.470000000         NaN    60   \n",
       "633           1079885  2013-12-15 12:25:42.193000000         NaN    36   \n",
       "690            991235  2013-11-03 08:48:26.140000000         NaN    60   \n",
       "765           1022836  2013-12-02 07:36:43.197000000         NaN    60   \n",
       "771            993658  2013-11-13 19:46:34.570000000         NaN    36   \n",
       "854           1082097  2013-12-12 11:08:56.630000000         NaN    60   \n",
       "890           1137096  2014-01-14 09:02:45.567000000         NaN    60   \n",
       "901           1026799  2013-12-03 00:36:12.727000000         NaN    60   \n",
       "1017          1236380  2014-03-06 03:45:19.167000000         NaN    36   \n",
       "1085          1079667  2013-12-12 03:37:30.163000000         NaN    36   \n",
       "1153          1086246  2013-12-13 01:35:00.870000000         NaN    36   \n",
       "1460           998145  2013-10-23 07:34:42.750000000         NaN    36   \n",
       "1842          1192663  2014-03-03 10:18:08.083000000         NaN    36   \n",
       "1892          1054235  2013-12-05 12:28:21.723000000         NaN    36   \n",
       "1962           911082  2013-09-19 11:47:58.917000000         NaN    60   \n",
       "1972           968697  2013-10-09 15:26:16.583000000         NaN    36   \n",
       "2048          1052408  2013-12-05 09:18:30.973000000         NaN    36   \n",
       "2097          1069756  2013-12-31 10:34:15.973000000         NaN    60   \n",
       "2181          1107074  2013-12-30 16:58:06.427000000         NaN    60   \n",
       "2288          1166956  2014-02-19 14:11:22.497000000         NaN    36   \n",
       "2487          1026919  2013-12-05 04:50:07.360000000         NaN    36   \n",
       "...               ...                            ...         ...   ...   \n",
       "111771        1125892  2014-01-21 14:48:16.600000000         NaN    36   \n",
       "111890         827053  2013-07-02 14:09:36.273000000         NaN    60   \n",
       "111938        1005026  2013-11-09 05:52:10.357000000         NaN    60   \n",
       "112024        1014469  2013-11-22 18:22:02.563000000         NaN    36   \n",
       "112098        1086346  2014-01-06 06:25:23.533000000         NaN    36   \n",
       "112124         912223  2013-09-19 12:44:10.020000000         NaN    36   \n",
       "112316        1056467  2013-12-05 22:05:04.813000000         NaN    36   \n",
       "112549        1018934  2013-11-14 19:24:22.833000000         NaN    60   \n",
       "112646         979285  2013-11-04 14:12:13.310000000         NaN    36   \n",
       "112653        1146712  2014-02-07 21:40:58.917000000         NaN    36   \n",
       "112684        1027866  2013-11-08 05:04:32.807000000         NaN    60   \n",
       "112774        1091854  2014-01-07 14:18:59.403000000         NaN    36   \n",
       "112775        1169617  2014-02-19 20:32:03.660000000         NaN    60   \n",
       "112808        1040752  2013-12-09 13:56:51.750000000         NaN    36   \n",
       "112857         971240  2013-10-28 02:32:23.193000000         NaN    60   \n",
       "112909        1032395  2013-11-25 08:06:35.157000000         NaN    60   \n",
       "112921         970853  2013-10-24 19:39:25.217000000         NaN    36   \n",
       "112990         950327  2013-10-11 07:26:59.320000000         NaN    60   \n",
       "113044        1125301  2014-01-21 13:25:51.740000000         NaN    60   \n",
       "113167        1197569  2014-02-15 20:36:09.020000000         NaN    36   \n",
       "113248        1026285  2013-11-06 16:49:49.477000000         NaN    60   \n",
       "113406        1027883  2013-11-21 20:52:36.510000000         NaN    36   \n",
       "113570        1076210  2013-12-14 12:55:45.637000000         NaN    36   \n",
       "113706        1018247  2013-11-14 16:21:07.883000000         NaN    36   \n",
       "113750        1190813  2014-02-13 09:02:27.677000000         NaN    36   \n",
       "113762        1040844  2013-11-18 17:55:25.090000000         NaN    60   \n",
       "113784        1021056  2013-11-05 20:51:45.540000000         NaN    36   \n",
       "113855        1211163  2014-02-15 18:43:57.650000000         NaN    36   \n",
       "113881         967344  2013-10-09 10:09:28.530000000         NaN    60   \n",
       "113912        1083677  2013-12-16 16:36:00.990000000         NaN    36   \n",
       "\n",
       "       LoanStatus ClosedDate  ProsperRating (numeric)  ProsperScore  \\\n",
       "9         Current        NaN                      7.0          11.0   \n",
       "69        Current        NaN                      6.0          11.0   \n",
       "158       Current        NaN                      7.0          11.0   \n",
       "224       Current        NaN                      6.0          11.0   \n",
       "236       Current        NaN                      7.0          11.0   \n",
       "277       Current        NaN                      5.0          11.0   \n",
       "476       Current        NaN                      5.0          11.0   \n",
       "491       Current        NaN                      5.0          11.0   \n",
       "532       Current        NaN                      6.0          11.0   \n",
       "554       Current        NaN                      7.0          11.0   \n",
       "633       Current        NaN                      6.0          11.0   \n",
       "690       Current        NaN                      6.0          11.0   \n",
       "765       Current        NaN                      5.0          11.0   \n",
       "771       Current        NaN                      7.0          11.0   \n",
       "854       Current        NaN                      6.0          11.0   \n",
       "890       Current        NaN                      5.0          11.0   \n",
       "901       Current        NaN                      6.0          11.0   \n",
       "1017      Current        NaN                      7.0          11.0   \n",
       "1085      Current        NaN                      7.0          11.0   \n",
       "1153      Current        NaN                      7.0          11.0   \n",
       "1460      Current        NaN                      6.0          11.0   \n",
       "1842      Current        NaN                      7.0          11.0   \n",
       "1892      Current        NaN                      6.0          11.0   \n",
       "1962      Current        NaN                      6.0          11.0   \n",
       "1972      Current        NaN                      5.0          11.0   \n",
       "2048      Current        NaN                      7.0          11.0   \n",
       "2097      Current        NaN                      6.0          11.0   \n",
       "2181      Current        NaN                      4.0          11.0   \n",
       "2288      Current        NaN                      6.0          11.0   \n",
       "2487      Current        NaN                      7.0          11.0   \n",
       "...           ...        ...                      ...           ...   \n",
       "111771    Current        NaN                      7.0          11.0   \n",
       "111890    Current        NaN                      5.0          11.0   \n",
       "111938    Current        NaN                      5.0          11.0   \n",
       "112024    Current        NaN                      7.0          11.0   \n",
       "112098    Current        NaN                      6.0          11.0   \n",
       "112124    Current        NaN                      7.0          11.0   \n",
       "112316    Current        NaN                      7.0          11.0   \n",
       "112549    Current        NaN                      6.0          11.0   \n",
       "112646    Current        NaN                      7.0          11.0   \n",
       "112653    Current        NaN                      7.0          11.0   \n",
       "112684    Current        NaN                      5.0          11.0   \n",
       "112774    Current        NaN                      7.0          11.0   \n",
       "112775    Current        NaN                      7.0          11.0   \n",
       "112808    Current        NaN                      7.0          11.0   \n",
       "112857    Current        NaN                      6.0          11.0   \n",
       "112909    Current        NaN                      6.0          11.0   \n",
       "112921    Current        NaN                      7.0          11.0   \n",
       "112990    Current        NaN                      6.0          11.0   \n",
       "113044    Current        NaN                      6.0          11.0   \n",
       "113167    Current        NaN                      6.0          11.0   \n",
       "113248    Current        NaN                      6.0          11.0   \n",
       "113406    Current        NaN                      7.0          11.0   \n",
       "113570    Current        NaN                      7.0          11.0   \n",
       "113706    Current        NaN                      6.0          11.0   \n",
       "113750    Current        NaN                      7.0          11.0   \n",
       "113762    Current        NaN                      6.0          11.0   \n",
       "113784    Current        NaN                      6.0          11.0   \n",
       "113855    Current        NaN                      6.0          11.0   \n",
       "113881    Current        NaN                      4.0          11.0   \n",
       "113912    Current        NaN                      7.0          11.0   \n",
       "\n",
       "        ListingCategory (numeric)                         Occupation  \\\n",
       "9                               7                       Food Service   \n",
       "69                              1                           Investor   \n",
       "158                             6               Tradesman - Mechanic   \n",
       "224                             1                 Sales - Commission   \n",
       "236                             1               Tradesman - Mechanic   \n",
       "277                             1                              Other   \n",
       "476                             1                              Other   \n",
       "491                             1                            Analyst   \n",
       "532                             1                                NaN   \n",
       "554                             7                              Other   \n",
       "633                             1                            Analyst   \n",
       "690                             2                              Other   \n",
       "765                             1                Computer Programmer   \n",
       "771                             1                         Nurse (RN)   \n",
       "854                             1                       Professional   \n",
       "890                             3                              Other   \n",
       "901                             2                       Professional   \n",
       "1017                            1                                NaN   \n",
       "1085                            1                     Sales - Retail   \n",
       "1153                            1                              Other   \n",
       "1460                            1                            Analyst   \n",
       "1842                           13                            Analyst   \n",
       "1892                            2                Computer Programmer   \n",
       "1962                            3                       Professional   \n",
       "1972                           18                     Accountant/CPA   \n",
       "2048                            1                       Professional   \n",
       "2097                            1                       Professional   \n",
       "2181                            1                          Scientist   \n",
       "2288                            1                       Professional   \n",
       "2487                            3                Computer Programmer   \n",
       "...                           ...                                ...   \n",
       "111771                          1                       Professional   \n",
       "111890                          1                       Construction   \n",
       "111938                          6              Engineer - Electrical   \n",
       "112024                         20                       Professional   \n",
       "112098                          1                              Other   \n",
       "112124                          1                     Accountant/CPA   \n",
       "112316                          1  Police Officer/Correction Officer   \n",
       "112549                          1                              Other   \n",
       "112646                         13                             Doctor   \n",
       "112653                          7                      Civil Service   \n",
       "112684                          1                  Retail Management   \n",
       "112774                          1                          Executive   \n",
       "112775                          1                              Other   \n",
       "112808                          1         Pilot - Private/Commercial   \n",
       "112857                          1                Computer Programmer   \n",
       "112909                          2                     Sales - Retail   \n",
       "112921                          1                          Executive   \n",
       "112990                          1                       Professional   \n",
       "113044                          1                       Professional   \n",
       "113167                         18                       Professional   \n",
       "113248                          2                 Sales - Commission   \n",
       "113406                         19                           Attorney   \n",
       "113570                          1                           Attorney   \n",
       "113706                          1                         Pharmacist   \n",
       "113750                          2                      Civil Service   \n",
       "113762                         20                              Other   \n",
       "113784                          1                              Other   \n",
       "113855                          3            Food Service Management   \n",
       "113881                          7                       Professional   \n",
       "113912                          2                          Scientist   \n",
       "\n",
       "       EmploymentStatus  IsBorrowerHomeowner  \n",
       "9              Employed                 True  \n",
       "69        Self-employed                 True  \n",
       "158            Employed                False  \n",
       "224            Employed                 True  \n",
       "236            Employed                 True  \n",
       "277           Full-time                False  \n",
       "476            Employed                False  \n",
       "491            Employed                 True  \n",
       "532               Other                 True  \n",
       "554            Employed                 True  \n",
       "633            Employed                 True  \n",
       "690            Employed                 True  \n",
       "765            Employed                 True  \n",
       "771            Employed                 True  \n",
       "854            Employed                False  \n",
       "890            Employed                 True  \n",
       "901            Employed                 True  \n",
       "1017              Other                 True  \n",
       "1085           Employed                 True  \n",
       "1153           Employed                 True  \n",
       "1460           Employed                False  \n",
       "1842           Employed                 True  \n",
       "1892           Employed                 True  \n",
       "1962           Employed                 True  \n",
       "1972      Self-employed                 True  \n",
       "2048           Employed                 True  \n",
       "2097           Employed                 True  \n",
       "2181           Employed                 True  \n",
       "2288           Employed                 True  \n",
       "2487      Self-employed                 True  \n",
       "...                 ...                  ...  \n",
       "111771         Employed                 True  \n",
       "111890         Employed                 True  \n",
       "111938         Employed                False  \n",
       "112024         Employed                 True  \n",
       "112098         Employed                False  \n",
       "112124         Employed                 True  \n",
       "112316         Employed                 True  \n",
       "112549         Employed                 True  \n",
       "112646         Employed                False  \n",
       "112653         Employed                 True  \n",
       "112684         Employed                 True  \n",
       "112774         Employed                 True  \n",
       "112775         Employed                False  \n",
       "112808         Employed                 True  \n",
       "112857         Employed                False  \n",
       "112909         Employed                False  \n",
       "112921         Employed                 True  \n",
       "112990         Employed                False  \n",
       "113044         Employed                 True  \n",
       "113167         Employed                 True  \n",
       "113248    Self-employed                False  \n",
       "113406         Employed                False  \n",
       "113570         Employed                 True  \n",
       "113706         Employed                False  \n",
       "113750         Employed                 True  \n",
       "113762         Employed                 True  \n",
       "113784         Employed                 True  \n",
       "113855        Full-time                False  \n",
       "113881         Employed                 True  \n",
       "113912         Employed                False  \n",
       "\n",
       "[1456 rows x 12 columns]"
      ]
     },
     "execution_count": 14,
     "metadata": {},
     "output_type": "execute_result"
    }
   ],
   "source": [
    "df_loans[df_loans['ProsperScore']>10]"
   ]
  },
  {
   "cell_type": "markdown",
   "metadata": {},
   "source": [
    "> From the Data Dictionary we know that the *Prosper Score* should range from 1 to 10. We should check that this is true in the data and delete the lines with *Prosper Score* above 10 (as we have enough data anyway). We will also check that *Prosper Rating* and *Listing Category* have valid values."
   ]
  },
  {
   "cell_type": "code",
   "execution_count": 15,
   "metadata": {},
   "outputs": [],
   "source": [
    "list_drop = df_loans[df_loans['ProsperScore']>10]['ListingNumber'].index.tolist()\n",
    "\n",
    "for t in list_drop:\n",
    "    df_loans= df_loans.drop(t)"
   ]
  },
  {
   "cell_type": "code",
   "execution_count": 16,
   "metadata": {},
   "outputs": [
    {
     "data": {
      "text/plain": [
       "(112481, 12)"
      ]
     },
     "execution_count": 16,
     "metadata": {},
     "output_type": "execute_result"
    }
   ],
   "source": [
    "df_loans = df_loans.reset_index(drop = True)\n",
    "df_loans.shape"
   ]
  },
  {
   "cell_type": "code",
   "execution_count": 17,
   "metadata": {},
   "outputs": [],
   "source": [
    "#remove the listings for which we have neither Credit Grade nor Prosper Rating\n",
    "list_drop_credit = df_loans[(df_loans['CreditGrade'].isnull())&(df_loans['ProsperRating (numeric)'].isnull())].index.tolist()\n",
    "for t in list_drop_credit:\n",
    "    df_loans= df_loans.drop(t)"
   ]
  },
  {
   "cell_type": "code",
   "execution_count": 18,
   "metadata": {},
   "outputs": [
    {
     "data": {
      "text/plain": [
       "(112350, 12)"
      ]
     },
     "execution_count": 18,
     "metadata": {},
     "output_type": "execute_result"
    }
   ],
   "source": [
    "df_loans = df_loans.reset_index(drop = True)\n",
    "df_loans.shape"
   ]
  },
  {
   "cell_type": "code",
   "execution_count": 19,
   "metadata": {},
   "outputs": [
    {
     "data": {
      "text/plain": [
       "1     57302\n",
       "0     16965\n",
       "7     10374\n",
       "2      7268\n",
       "3      7079\n",
       "6      2531\n",
       "4      2395\n",
       "13     1967\n",
       "15     1493\n",
       "18      868\n",
       "14      857\n",
       "20      755\n",
       "19      754\n",
       "5       750\n",
       "16      303\n",
       "11      212\n",
       "8       191\n",
       "10       91\n",
       "9        85\n",
       "12       59\n",
       "17       51\n",
       "Name: ListingCategory (numeric), dtype: int64"
      ]
     },
     "execution_count": 19,
     "metadata": {},
     "output_type": "execute_result"
    }
   ],
   "source": [
    "df_loans['ListingCategory (numeric)'].value_counts()"
   ]
  },
  {
   "cell_type": "code",
   "execution_count": 20,
   "metadata": {},
   "outputs": [
    {
     "data": {
      "text/plain": [
       "4.0    18320\n",
       "5.0    15410\n",
       "3.0    14274\n",
       "6.0    14030\n",
       "2.0     9795\n",
       "1.0     6935\n",
       "7.0     4633\n",
       "Name: ProsperRating (numeric), dtype: int64"
      ]
     },
     "execution_count": 20,
     "metadata": {},
     "output_type": "execute_result"
    }
   ],
   "source": [
    "df_loans['ProsperRating (numeric)'].value_counts()"
   ]
  },
  {
   "cell_type": "markdown",
   "metadata": {},
   "source": [
    "The values for *Listing Category* and *Prosper Rating* are all valid. "
   ]
  },
  {
   "cell_type": "code",
   "execution_count": 21,
   "metadata": {},
   "outputs": [
    {
     "data": {
      "text/plain": [
       "0"
      ]
     },
     "execution_count": 21,
     "metadata": {},
     "output_type": "execute_result"
    }
   ],
   "source": [
    "#is there any null listing?\n",
    "df_loans.ListingNumber.isnull().sum()"
   ]
  },
  {
   "cell_type": "code",
   "execution_count": 22,
   "metadata": {},
   "outputs": [
    {
     "data": {
      "text/plain": [
       "823"
      ]
     },
     "execution_count": 22,
     "metadata": {},
     "output_type": "execute_result"
    }
   ],
   "source": [
    "#look at the remaining duplicate values\n",
    "df_loans.sort_values(['ListingNumber'], inplace=True)\n",
    "df_loans.ListingNumber.duplicated().sum()"
   ]
  },
  {
   "cell_type": "code",
   "execution_count": 23,
   "metadata": {},
   "outputs": [
    {
     "data": {
      "text/html": [
       "<div>\n",
       "<style scoped>\n",
       "    .dataframe tbody tr th:only-of-type {\n",
       "        vertical-align: middle;\n",
       "    }\n",
       "\n",
       "    .dataframe tbody tr th {\n",
       "        vertical-align: top;\n",
       "    }\n",
       "\n",
       "    .dataframe thead th {\n",
       "        text-align: right;\n",
       "    }\n",
       "</style>\n",
       "<table border=\"1\" class=\"dataframe\">\n",
       "  <thead>\n",
       "    <tr style=\"text-align: right;\">\n",
       "      <th></th>\n",
       "      <th>ListingNumber</th>\n",
       "      <th>ListingCreationDate</th>\n",
       "      <th>CreditGrade</th>\n",
       "      <th>Term</th>\n",
       "      <th>LoanStatus</th>\n",
       "      <th>ClosedDate</th>\n",
       "      <th>ProsperRating (numeric)</th>\n",
       "      <th>ProsperScore</th>\n",
       "      <th>ListingCategory (numeric)</th>\n",
       "      <th>Occupation</th>\n",
       "      <th>EmploymentStatus</th>\n",
       "      <th>IsBorrowerHomeowner</th>\n",
       "    </tr>\n",
       "  </thead>\n",
       "  <tbody>\n",
       "    <tr>\n",
       "      <th>16108</th>\n",
       "      <td>786407</td>\n",
       "      <td>2013-05-22 19:42:23.417000000</td>\n",
       "      <td>NaN</td>\n",
       "      <td>60</td>\n",
       "      <td>Current</td>\n",
       "      <td>NaN</td>\n",
       "      <td>3.0</td>\n",
       "      <td>6.0</td>\n",
       "      <td>1</td>\n",
       "      <td>Other</td>\n",
       "      <td>Other</td>\n",
       "      <td>False</td>\n",
       "    </tr>\n",
       "    <tr>\n",
       "      <th>86007</th>\n",
       "      <td>786407</td>\n",
       "      <td>2013-05-22 19:42:23.417000000</td>\n",
       "      <td>NaN</td>\n",
       "      <td>60</td>\n",
       "      <td>Current</td>\n",
       "      <td>NaN</td>\n",
       "      <td>3.0</td>\n",
       "      <td>4.0</td>\n",
       "      <td>1</td>\n",
       "      <td>Other</td>\n",
       "      <td>Other</td>\n",
       "      <td>False</td>\n",
       "    </tr>\n",
       "  </tbody>\n",
       "</table>\n",
       "</div>"
      ],
      "text/plain": [
       "       ListingNumber            ListingCreationDate CreditGrade  Term  \\\n",
       "16108         786407  2013-05-22 19:42:23.417000000         NaN    60   \n",
       "86007         786407  2013-05-22 19:42:23.417000000         NaN    60   \n",
       "\n",
       "      LoanStatus ClosedDate  ProsperRating (numeric)  ProsperScore  \\\n",
       "16108    Current        NaN                      3.0           6.0   \n",
       "86007    Current        NaN                      3.0           4.0   \n",
       "\n",
       "       ListingCategory (numeric) Occupation EmploymentStatus  \\\n",
       "16108                          1      Other            Other   \n",
       "86007                          1      Other            Other   \n",
       "\n",
       "       IsBorrowerHomeowner  \n",
       "16108                False  \n",
       "86007                False  "
      ]
     },
     "execution_count": 23,
     "metadata": {},
     "output_type": "execute_result"
    }
   ],
   "source": [
    "df_loans[df_loans['ListingNumber']==786407]"
   ]
  },
  {
   "cell_type": "markdown",
   "metadata": {},
   "source": [
    "> As in the duplicate above, it's hard to tell which of the two lines should be kept. Given that the listings having this issue are less than 1% of our dataset, we will move on and focus on the big picture by exploring the data visually. "
   ]
  },
  {
   "cell_type": "code",
   "execution_count": 24,
   "metadata": {},
   "outputs": [
    {
     "data": {
      "text/plain": [
       "(112350, 12)"
      ]
     },
     "execution_count": 24,
     "metadata": {},
     "output_type": "execute_result"
    }
   ],
   "source": [
    "#shape of final dataset\n",
    "df_loans.shape"
   ]
  },
  {
   "cell_type": "markdown",
   "metadata": {},
   "source": [
    "### What is the structure of your dataset?\n",
    "\n",
    "> The dataset is made of 112481 rows and 12 columns. It's a subset of the original ProsperLoanData dataset as we want to focus on fewer variables. We have also dropped a few rows containing an invalid value for the Prosper Score and rows having N/A for both Prosper Rating and Credit Grade.\n",
    "\n",
    "### What is/are the main feature(s) of interest in your dataset?\n",
    "\n",
    "> I kept the variables I was more interested in, thinking of what I would want to analyse:\n",
    "- Time of the loan: when and for how long the loan was open \n",
    "- Credit rating/score: risk scores assigned to each loan\n",
    "- Loan features: category, status\n",
    "- Characteristics of the borrowers: are they home owner, what is their employment status and occupation\n",
    "> My aim would be to find at least one insight in each of the four categories through visualisation.\n",
    "\n",
    "### What features in the dataset do you think will help support your investigation into your feature(s) of interest?\n",
    "\n",
    "> Thanks to the large amount of data and the use of visualisation techniques for analysis, I will try to gather insights on the features mentioned above and the relationships among them. The variables I will use are the following:\n",
    "> - General: \n",
    "    - ListingNumber\n",
    "- Time of the loan:\n",
    "    - ListingCreationDate\n",
    "    - Term\n",
    "    - ClosedDate   \n",
    "- Credit Rating/Score:\n",
    "    - Credit Grade  \n",
    "    - ProsperRating (numeric)\n",
    "    - ProsperScore\n",
    "- Loan features:\n",
    "    - LoanStatus\n",
    "    - ListingCategory   \n",
    "- Borrowers' features:\n",
    "    - Occupation\n",
    "    - EmploymentStatus\n",
    "    - IsBorrowerHomeowner"
   ]
  },
  {
   "cell_type": "markdown",
   "metadata": {},
   "source": [
    "## Univariate Exploration\n",
    "\n",
    "> Here we will look at each individual variable separately.\n",
    "\n",
    "## Loan term ##\n",
    "### Listing Creation Date ###"
   ]
  },
  {
   "cell_type": "code",
   "execution_count": 25,
   "metadata": {},
   "outputs": [],
   "source": [
    "#change data format to datetime\n",
    "df_loans['ListingCreationDate'] = pd.to_datetime(df_loans['ListingCreationDate'])\n",
    "\n",
    "#create groupby object to get the number of listings each month\n",
    "df_1 = pd.DataFrame(df_loans.set_index('ListingCreationDate').groupby(pd.Grouper(freq='M'))['ListingNumber'].count().reset_index())"
   ]
  },
  {
   "cell_type": "code",
   "execution_count": 26,
   "metadata": {},
   "outputs": [
    {
     "data": {
      "image/png": "[encoded data removed]",
      "text/plain": [
       "<Figure size 864x720 with 1 Axes>"
      ]
     },
     "metadata": {
      "needs_background": "light"
     },
     "output_type": "display_data"
    }
   ],
   "source": [
    "base = sb.color_palette()[0]\n",
    "total = df_loans.shape[0]\n",
    "fig=plt.figure(figsize=(12, 10))\n",
    "\n",
    "sb.barplot(x=\"ListingCreationDate\", y=\"ListingNumber\", data=df_1, color = base)\n",
    "plt.xticks(plt.xticks()[0], (df_1.ListingCreationDate.dt.year.astype(str))+\"-\"+(df_1.ListingCreationDate.dt.month.astype(str)), rotation=90)\n",
    "plt.tight_layout()\n",
    "plt.show()"
   ]
  },
  {
   "cell_type": "markdown",
   "metadata": {},
   "source": [
    "> We can see that there is an increasing trend from the end of 2005 to the beginning of 2014: more loans were created in the  last period of the dataset rather than in the initial one. \n",
    "It's also interesting to note that between end of 2008 and end of 2009, which coincides with the period of the financial crisis, almost no new loans were created.\n",
    "\n",
    "### Term ###"
   ]
  },
  {
   "cell_type": "code",
   "execution_count": 27,
   "metadata": {},
   "outputs": [
    {
     "data": {
      "image/png": "[encoded data removed]",
      "text/plain": [
       "<Figure size 432x288 with 1 Axes>"
      ]
     },
     "metadata": {
      "needs_background": "light"
     },
     "output_type": "display_data"
    }
   ],
   "source": [
    "ax_term = sb.countplot(data = df_loans, x = 'Term', color = base)\n",
    "for p in ax_term.patches:\n",
    "    height = p.get_height()\n",
    "    ax_term.text(p.get_x()+p.get_width()/2.,\n",
    "            height + 3,\n",
    "            '{:1.2f}'.format(height/total),\n",
    "            ha=\"center\") \n",
    "plt.show();"
   ]
  },
  {
   "cell_type": "markdown",
   "metadata": {},
   "source": [
    "> Most of the loans (77%) have a 3-year term, 21% have a 5-year term and only 1% are for a year.\n",
    "\n",
    "### Closed Date ###"
   ]
  },
  {
   "cell_type": "code",
   "execution_count": 28,
   "metadata": {},
   "outputs": [],
   "source": [
    "#same as for the ListingCreationDate\n",
    "df_loans['ClosedDate'] = pd.to_datetime(df_loans['ClosedDate'])\n",
    "df_2 = pd.DataFrame(df_loans.set_index('ClosedDate').groupby(pd.Grouper(freq='M'))['ListingNumber'].count().reset_index())"
   ]
  },
  {
   "cell_type": "code",
   "execution_count": 29,
   "metadata": {},
   "outputs": [
    {
     "data": {
      "image/png": "[encoded data removed]",
      "text/plain": [
       "<Figure size 864x720 with 1 Axes>"
      ]
     },
     "metadata": {
      "needs_background": "light"
     },
     "output_type": "display_data"
    }
   ],
   "source": [
    "fig=plt.figure(figsize=(12, 10))\n",
    "\n",
    "sb.barplot(x=\"ClosedDate\", y=\"ListingNumber\", data=df_2, color = base)\n",
    "plt.xticks(plt.xticks()[0], (df_2.ClosedDate.dt.year.astype(str))+\"-\"+(df_2.ClosedDate.dt.month.astype(str)), rotation=90)\n",
    "plt.tight_layout()\n",
    "plt.show()"
   ]
  },
  {
   "cell_type": "markdown",
   "metadata": {},
   "source": [
    "> Here as well we see an increasing trend of number of closed loans. We will create a new variable to look at the distribution of the length of the loans, ie for how long loans were open. \n",
    "\n",
    "### Duration ###"
   ]
  },
  {
   "cell_type": "code",
   "execution_count": 30,
   "metadata": {},
   "outputs": [],
   "source": [
    "df_loans['Duration'] = (df_loans['ClosedDate'] - df_loans['ListingCreationDate']).abs().dt.components.days"
   ]
  },
  {
   "cell_type": "code",
   "execution_count": 31,
   "metadata": {},
   "outputs": [],
   "source": [
    "df_loans['months'] = round(df_loans.Duration/30,0)"
   ]
  },
  {
   "cell_type": "code",
   "execution_count": 32,
   "metadata": {},
   "outputs": [
    {
     "name": "stderr",
     "output_type": "stream",
     "text": [
      "/anaconda3/lib/python3.7/site-packages/numpy/lib/histograms.py:754: RuntimeWarning: invalid value encountered in greater_equal\n",
      "  keep = (tmp_a >= first_edge)\n",
      "/anaconda3/lib/python3.7/site-packages/numpy/lib/histograms.py:755: RuntimeWarning: invalid value encountered in less_equal\n",
      "  keep &= (tmp_a <= last_edge)\n"
     ]
    },
    {
     "data": {
      "image/png": "[encoded data removed]",
      "text/plain": [
       "<Figure size 432x288 with 1 Axes>"
      ]
     },
     "metadata": {
      "needs_background": "light"
     },
     "output_type": "display_data"
    }
   ],
   "source": [
    "plt.hist(data = df_loans, x = 'months');"
   ]
  },
  {
   "cell_type": "markdown",
   "metadata": {},
   "source": [
    "> We have a bimodal distribution of the loan duration, with peaks at 1 year and 3 years. At a later stage we could compare this with loan status and loan term."
   ]
  },
  {
   "cell_type": "markdown",
   "metadata": {},
   "source": [
    "## Credit Rating ##\n",
    "### Credit Grade ###\n",
    "This variable was used for loans pre-2009."
   ]
  },
  {
   "cell_type": "code",
   "execution_count": 33,
   "metadata": {},
   "outputs": [
    {
     "data": {
      "image/png": "[encoded data removed]",
      "text/plain": [
       "<Figure size 720x360 with 1 Axes>"
      ]
     },
     "metadata": {
      "needs_background": "light"
     },
     "output_type": "display_data"
    }
   ],
   "source": [
    "total_credit = df_loans.CreditGrade.notnull().sum()\n",
    "\n",
    "order_credit = df_loans.CreditGrade.value_counts().index.tolist()\n",
    "\n",
    "fig = plt.figure(figsize = (10,5))\n",
    "\n",
    "ax_credit = sb.countplot(data = df_loans, x = 'CreditGrade', color = base, order = order_credit)\n",
    "\n",
    "for p in ax_credit.patches:\n",
    "    height = p.get_height()\n",
    "    ax_credit.text(p.get_x()+p.get_width()/2.,\n",
    "            height + 3,\n",
    "            '{:1.2f}'.format(height/total_credit),\n",
    "            ha=\"center\") \n",
    "plt.show();"
   ]
  },
  {
   "cell_type": "markdown",
   "metadata": {},
   "source": [
    "> Most of the data is in the middle range ie B-C-D, with fewer loans having very high or very low credit grades. \n",
    "\n",
    "### Prosper Rating ###\n",
    "A measure used after July 2009."
   ]
  },
  {
   "cell_type": "code",
   "execution_count": 34,
   "metadata": {},
   "outputs": [
    {
     "data": {
      "image/png": "[encoded data removed]",
      "text/plain": [
       "<Figure size 720x360 with 1 Axes>"
      ]
     },
     "metadata": {
      "needs_background": "light"
     },
     "output_type": "display_data"
    }
   ],
   "source": [
    "total_rating = df_loans['ProsperRating (numeric)'].notnull().sum()\n",
    "\n",
    "order_rating = df_loans['ProsperRating (numeric)'].value_counts().index.tolist()\n",
    "\n",
    "fig = plt.figure(figsize = (10,5))\n",
    "\n",
    "ax_rating = sb.countplot(data = df_loans, x = 'ProsperRating (numeric)', color = base, order = order_rating)\n",
    "\n",
    "for p in ax_rating.patches:\n",
    "    height = p.get_height()\n",
    "    ax_rating.text(p.get_x()+p.get_width()/2.,\n",
    "            height + 3,\n",
    "            '{:1.2f}'.format(height/total_rating),\n",
    "            ha=\"center\") \n",
    "plt.show();"
   ]
  },
  {
   "cell_type": "markdown",
   "metadata": {},
   "source": [
    "> As we noticed earlier, credit ratings after 2009 (called *Prosper Ratings*) are mainly concentrated in the middle ranges rather than the extreme ones, ie we have fewer loans with rating 1, 2 or 7.\n",
    "\n",
    "### Prosper Score ###\n",
    "A measure used after July 2009."
   ]
  },
  {
   "cell_type": "code",
   "execution_count": 35,
   "metadata": {},
   "outputs": [
    {
     "data": {
      "image/png": "[encoded data removed]",
      "text/plain": [
       "<Figure size 720x360 with 1 Axes>"
      ]
     },
     "metadata": {
      "needs_background": "light"
     },
     "output_type": "display_data"
    }
   ],
   "source": [
    "total_grade = df_loans['ProsperScore'].notnull().sum()\n",
    "\n",
    "order_grade = df_loans['ProsperScore'].value_counts().index.tolist()\n",
    "\n",
    "fig = plt.figure(figsize = (10,5))\n",
    "\n",
    "ax_grade = sb.countplot(data = df_loans, x = 'ProsperScore', color = base, order = order_grade)\n",
    "\n",
    "for p in ax_grade.patches:\n",
    "    height = p.get_height()\n",
    "    ax_grade.text(p.get_x()+p.get_width()/2.,\n",
    "            height + 3,\n",
    "            '{:1.2f}'.format(height/total_grade),\n",
    "            ha=\"center\") \n",
    "plt.show();"
   ]
  },
  {
   "cell_type": "markdown",
   "metadata": {},
   "source": [
    "> This measure as well, which is a custom risk score built by using Prosper historical data, shows concentration in the middle range ie between 4 and 8."
   ]
  },
  {
   "cell_type": "markdown",
   "metadata": {},
   "source": [
    "## Loan features ##\n",
    "### Loan Status ###"
   ]
  },
  {
   "cell_type": "code",
   "execution_count": 36,
   "metadata": {},
   "outputs": [
    {
     "data": {
      "image/png": "[encoded data removed]",
      "text/plain": [
       "<Figure size 432x288 with 1 Axes>"
      ]
     },
     "metadata": {
      "needs_background": "light"
     },
     "output_type": "display_data"
    }
   ],
   "source": [
    "order_status = df_loans.LoanStatus.value_counts().index.tolist()\n",
    "\n",
    "ax = sb.countplot(data = df_loans, x = 'LoanStatus', color = base, order = order_status)\n",
    "plt.xticks(rotation=90)\n",
    "\n",
    "for p in ax.patches:\n",
    "    height = p.get_height()\n",
    "    ax.text(p.get_x()+p.get_width()/2.,\n",
    "            height + 3,\n",
    "            '{:1.2f}'.format(height/total),\n",
    "            ha=\"center\") \n",
    "plt.show();"
   ]
  },
  {
   "cell_type": "markdown",
   "metadata": {},
   "source": [
    "> From here we can see that less than 2% of the loans are Past Due, around 4% defaulted and 11% got charged off. With the help of other variables we will be able to get more details on the duration and term of outstanding loans and completed ones. \n",
    "\n",
    "### Listing Category ###"
   ]
  },
  {
   "cell_type": "code",
   "execution_count": 37,
   "metadata": {},
   "outputs": [
    {
     "data": {
      "image/png": "[encoded data removed]",
      "text/plain": [
       "<Figure size 720x360 with 1 Axes>"
      ]
     },
     "metadata": {
      "needs_background": "light"
     },
     "output_type": "display_data"
    }
   ],
   "source": [
    "order_listing = df_loans['ListingCategory (numeric)'].value_counts().index.tolist()\n",
    "\n",
    "fig = plt.figure(figsize = (10,5))\n",
    "\n",
    "ax_listing = sb.countplot(data = df_loans, x = 'ListingCategory (numeric)', color = base, order = order_listing)\n",
    "for p in ax_listing.patches:\n",
    "    height = p.get_height()\n",
    "    ax_listing.text(p.get_x()+p.get_width()/2.,\n",
    "            height + 3,\n",
    "            '{:1.2f}'.format(height/total),\n",
    "            ha=\"center\") \n",
    "plt.show();"
   ]
  },
  {
   "cell_type": "markdown",
   "metadata": {},
   "source": [
    "> This distribution gives us some interesting insights on the population:\n",
    "- Roughly half of the borrowers asked a loan for Debt Consolidation\n",
    "- 25% either did not give a reason or falls into the \"Other\" loan category\n",
    "- 6% needed money for Home Improvement\n",
    "- 6% for Business"
   ]
  },
  {
   "cell_type": "markdown",
   "metadata": {},
   "source": [
    "## Borrowers' features ##\n",
    "### Employment Status ###"
   ]
  },
  {
   "cell_type": "code",
   "execution_count": 38,
   "metadata": {},
   "outputs": [
    {
     "data": {
      "image/png": "[encoded data removed]",
      "text/plain": [
       "<Figure size 720x360 with 1 Axes>"
      ]
     },
     "metadata": {
      "needs_background": "light"
     },
     "output_type": "display_data"
    }
   ],
   "source": [
    "order_employment = df_loans.EmploymentStatus.value_counts().index.tolist()\n",
    "fig = plt.figure(figsize = (10,5))\n",
    "sb.countplot(data = df_loans, x = 'EmploymentStatus', color = base, order = order_employment);"
   ]
  },
  {
   "cell_type": "markdown",
   "metadata": {},
   "source": [
    "> The classification of the employment status is not consistent as we have labels such as Employed, Full-time and Part-time, when full-time and part-time are subsets of \"employed\". We can still gather from this chart that most of the loans were given to employed people. The percentage of non-employed, other or retired people is quite low (less than 5%). The fact that the majority of loans is given to employed people was expected. \n",
    "\n",
    "### Is Borrower HomeOwner? ###"
   ]
  },
  {
   "cell_type": "code",
   "execution_count": 39,
   "metadata": {},
   "outputs": [
    {
     "data": {
      "image/png": "[encoded data removed]",
      "text/plain": [
       "<Figure size 432x288 with 1 Axes>"
      ]
     },
     "metadata": {
      "needs_background": "light"
     },
     "output_type": "display_data"
    }
   ],
   "source": [
    "sb.countplot(data = df_loans, x = 'IsBorrowerHomeowner', color = base);"
   ]
  },
  {
   "cell_type": "markdown",
   "metadata": {},
   "source": [
    "> It looks like our data is split almost 50-50 between homeowners and not. \n",
    "\n",
    "### Occupation ###"
   ]
  },
  {
   "cell_type": "code",
   "execution_count": 40,
   "metadata": {},
   "outputs": [
    {
     "data": {
      "image/png": "[encoded data removed]",
      "text/plain": [
       "<Figure size 1080x360 with 1 Axes>"
      ]
     },
     "metadata": {
      "needs_background": "light"
     },
     "output_type": "display_data"
    }
   ],
   "source": [
    "#top 20 occupations\n",
    "order_occupation = df_loans.Occupation.value_counts().index.tolist()[:20]\n",
    "fig = plt.figure(figsize = (15,5))\n",
    "\n",
    "ax_1 = sb.countplot(data = df_loans, x = 'Occupation', color = base, order = order_occupation)\n",
    "plt.xticks(rotation=90)\n",
    "for p in ax_1.patches:\n",
    "    height = p.get_height()\n",
    "    ax_1.text(p.get_x()+p.get_width()/2.,\n",
    "            height + 3,\n",
    "            '{:1.2f}'.format(height/total),\n",
    "            ha=\"center\");"
   ]
  },
  {
   "cell_type": "markdown",
   "metadata": {},
   "source": [
    "> Occupation might be the least useful/easy variable to analyse. There are many unique occupations in the dataset (almost 70) and most of the loans were given to \"Other\" and \"Professional\" workers, which doesn't give enough details on the type of profession. "
   ]
  },
  {
   "cell_type": "markdown",
   "metadata": {},
   "source": [
    "### Discuss the distribution(s) of your variable(s) of interest. Were there any unusual points? Did you need to perform any transformations?\n",
    "\n",
    "> Initially, I cleaned the data to remove some unusual points (for instance the rows Prosper Scores above 10). During the univariate analysis, I had to change the data format of some columns to be able to plot it.\n",
    "> Also, in order to find out the duration of each loan I had to create a new variable that takes the closing date and subtracts from it the creation date. This returned the number of days between the two dates, which I then transformed in months for convenience. \n",
    "\n",
    "### Of the features you investigated, were there any unusual distributions? Did you perform any operations on the data to tidy, adjust, or change the form of the data? If so, why did you do this?\n",
    "\n",
    "> The univariate distributions are all generally as expected, with some interesting insights that we will investigate further in the next step. \n",
    "- Term of the loan:\n",
    "    - The more recent years have seen an increasing trend in number of loans being **created** and **closed**.\n",
    "    - Most of the loans have a 3 year **term**.\n",
    "    - The **duration** of the loans follows a bimodal distribution with peaks at the 1 year and 3 years points. \n",
    "- Credit Rating/Score:\n",
    "    - By looking at the Credit Grade, Prosper Rating and Prosper Score, we found out that most of the borrowers have a **credit score** lying in the middle, ie the credit score roughly follows a normal distribution. \n",
    "- Loan features:\n",
    "    - Most of the loans are current or completed, with only a very small portion being with **status** past due, defaulted or charged off. \n",
    "    - Among the **reasons** for which loans have been taken out, the most common are: Debt Consolidation, Home improvement, Business. A quarter of the reasons were classified as \"Other\". \n",
    "- Borrower's features:\n",
    "    - As expected, most of the borrowers (ca 95%) are **employed**.\n",
    "    - An interesting fact is that the population is split in half between borrowers **owning a house** and not owning a house.\n",
    "    - The borrower's **occupation** is not detailed enough for most of the population, we can therefore avoid analysing this variable in the next stage.  "
   ]
  },
  {
   "cell_type": "markdown",
   "metadata": {},
   "source": [
    "## Bivariate Exploration\n",
    "\n",
    "> In this section, we will investigate relationships between pairs of variables. I would like to get some further insights mainly on:\n",
    "- the relationship between credit rating and other variables\n",
    "- the variables that give a higher likelihood of defaulted/charged off loans\n",
    " \n",
    "### 1) Loan Status vs Score\n",
    "> Let's see if there is a relationship between defaulting on a loan or getting the loan charged off and the Prosper Score. "
   ]
  },
  {
   "cell_type": "code",
   "execution_count": 41,
   "metadata": {},
   "outputs": [],
   "source": [
    "df_status = df_loans[df_loans.LoanStatus.notnull()]\n",
    "\n",
    "#store totals per Prosper Score and Loan Status\n",
    "df_score_status = pd.DataFrame(df_status.groupby(['ProsperScore', 'LoanStatus'])['ListingNumber'].count()).reset_index()\n",
    "\n",
    "#store totals per Prosper Score\n",
    "df_score_aggregate = pd.DataFrame(df_score_status.groupby('ProsperScore')['ListingNumber'].sum())"
   ]
  },
  {
   "cell_type": "code",
   "execution_count": 42,
   "metadata": {},
   "outputs": [],
   "source": [
    "#merge\n",
    "df_score_status = df_score_status.merge(df_score_aggregate, on = 'ProsperScore', how = 'left')"
   ]
  },
  {
   "cell_type": "code",
   "execution_count": 43,
   "metadata": {},
   "outputs": [],
   "source": [
    "#get proportions\n",
    "df_score_status['Proportion'] = df_score_status['ListingNumber_x']/df_score_status['ListingNumber_y']\n",
    "\n",
    "#for visual\n",
    "df_score_status_visual = df_score_status[df_score_status['LoanStatus'].isin(['Chargedoff', 'Defaulted'])]"
   ]
  },
  {
   "cell_type": "code",
   "execution_count": 44,
   "metadata": {},
   "outputs": [
    {
     "data": {
      "text/html": [
       "<div>\n",
       "<style scoped>\n",
       "    .dataframe tbody tr th:only-of-type {\n",
       "        vertical-align: middle;\n",
       "    }\n",
       "\n",
       "    .dataframe tbody tr th {\n",
       "        vertical-align: top;\n",
       "    }\n",
       "\n",
       "    .dataframe thead th {\n",
       "        text-align: right;\n",
       "    }\n",
       "</style>\n",
       "<table border=\"1\" class=\"dataframe\">\n",
       "  <thead>\n",
       "    <tr style=\"text-align: right;\">\n",
       "      <th></th>\n",
       "      <th>ProsperScore</th>\n",
       "      <th>LoanStatus</th>\n",
       "      <th>ListingNumber_x</th>\n",
       "      <th>ListingNumber_y</th>\n",
       "      <th>Proportion</th>\n",
       "    </tr>\n",
       "  </thead>\n",
       "  <tbody>\n",
       "    <tr>\n",
       "      <th>0</th>\n",
       "      <td>1.0</td>\n",
       "      <td>Chargedoff</td>\n",
       "      <td>235</td>\n",
       "      <td>992</td>\n",
       "      <td>0.236895</td>\n",
       "    </tr>\n",
       "    <tr>\n",
       "      <th>3</th>\n",
       "      <td>1.0</td>\n",
       "      <td>Defaulted</td>\n",
       "      <td>37</td>\n",
       "      <td>992</td>\n",
       "      <td>0.037298</td>\n",
       "    </tr>\n",
       "    <tr>\n",
       "      <th>10</th>\n",
       "      <td>2.0</td>\n",
       "      <td>Chargedoff</td>\n",
       "      <td>377</td>\n",
       "      <td>5766</td>\n",
       "      <td>0.065383</td>\n",
       "    </tr>\n",
       "    <tr>\n",
       "      <th>13</th>\n",
       "      <td>2.0</td>\n",
       "      <td>Defaulted</td>\n",
       "      <td>70</td>\n",
       "      <td>5766</td>\n",
       "      <td>0.012140</td>\n",
       "    </tr>\n",
       "    <tr>\n",
       "      <th>21</th>\n",
       "      <td>3.0</td>\n",
       "      <td>Chargedoff</td>\n",
       "      <td>414</td>\n",
       "      <td>7642</td>\n",
       "      <td>0.054174</td>\n",
       "    </tr>\n",
       "    <tr>\n",
       "      <th>24</th>\n",
       "      <td>3.0</td>\n",
       "      <td>Defaulted</td>\n",
       "      <td>75</td>\n",
       "      <td>7642</td>\n",
       "      <td>0.009814</td>\n",
       "    </tr>\n",
       "    <tr>\n",
       "      <th>32</th>\n",
       "      <td>4.0</td>\n",
       "      <td>Chargedoff</td>\n",
       "      <td>784</td>\n",
       "      <td>12595</td>\n",
       "      <td>0.062247</td>\n",
       "    </tr>\n",
       "    <tr>\n",
       "      <th>35</th>\n",
       "      <td>4.0</td>\n",
       "      <td>Defaulted</td>\n",
       "      <td>119</td>\n",
       "      <td>12595</td>\n",
       "      <td>0.009448</td>\n",
       "    </tr>\n",
       "    <tr>\n",
       "      <th>43</th>\n",
       "      <td>5.0</td>\n",
       "      <td>Chargedoff</td>\n",
       "      <td>907</td>\n",
       "      <td>9813</td>\n",
       "      <td>0.092428</td>\n",
       "    </tr>\n",
       "    <tr>\n",
       "      <th>46</th>\n",
       "      <td>5.0</td>\n",
       "      <td>Defaulted</td>\n",
       "      <td>165</td>\n",
       "      <td>9813</td>\n",
       "      <td>0.016814</td>\n",
       "    </tr>\n",
       "    <tr>\n",
       "      <th>54</th>\n",
       "      <td>6.0</td>\n",
       "      <td>Chargedoff</td>\n",
       "      <td>925</td>\n",
       "      <td>12278</td>\n",
       "      <td>0.075338</td>\n",
       "    </tr>\n",
       "    <tr>\n",
       "      <th>57</th>\n",
       "      <td>6.0</td>\n",
       "      <td>Defaulted</td>\n",
       "      <td>173</td>\n",
       "      <td>12278</td>\n",
       "      <td>0.014090</td>\n",
       "    </tr>\n",
       "    <tr>\n",
       "      <th>65</th>\n",
       "      <td>7.0</td>\n",
       "      <td>Chargedoff</td>\n",
       "      <td>662</td>\n",
       "      <td>10597</td>\n",
       "      <td>0.062471</td>\n",
       "    </tr>\n",
       "    <tr>\n",
       "      <th>68</th>\n",
       "      <td>7.0</td>\n",
       "      <td>Defaulted</td>\n",
       "      <td>135</td>\n",
       "      <td>10597</td>\n",
       "      <td>0.012739</td>\n",
       "    </tr>\n",
       "    <tr>\n",
       "      <th>76</th>\n",
       "      <td>8.0</td>\n",
       "      <td>Chargedoff</td>\n",
       "      <td>666</td>\n",
       "      <td>12053</td>\n",
       "      <td>0.055256</td>\n",
       "    </tr>\n",
       "    <tr>\n",
       "      <th>79</th>\n",
       "      <td>8.0</td>\n",
       "      <td>Defaulted</td>\n",
       "      <td>139</td>\n",
       "      <td>12053</td>\n",
       "      <td>0.011532</td>\n",
       "    </tr>\n",
       "    <tr>\n",
       "      <th>87</th>\n",
       "      <td>9.0</td>\n",
       "      <td>Chargedoff</td>\n",
       "      <td>309</td>\n",
       "      <td>6911</td>\n",
       "      <td>0.044711</td>\n",
       "    </tr>\n",
       "    <tr>\n",
       "      <th>90</th>\n",
       "      <td>9.0</td>\n",
       "      <td>Defaulted</td>\n",
       "      <td>71</td>\n",
       "      <td>6911</td>\n",
       "      <td>0.010273</td>\n",
       "    </tr>\n",
       "    <tr>\n",
       "      <th>97</th>\n",
       "      <td>10.0</td>\n",
       "      <td>Chargedoff</td>\n",
       "      <td>57</td>\n",
       "      <td>4750</td>\n",
       "      <td>0.012000</td>\n",
       "    </tr>\n",
       "    <tr>\n",
       "      <th>100</th>\n",
       "      <td>10.0</td>\n",
       "      <td>Defaulted</td>\n",
       "      <td>20</td>\n",
       "      <td>4750</td>\n",
       "      <td>0.004211</td>\n",
       "    </tr>\n",
       "  </tbody>\n",
       "</table>\n",
       "</div>"
      ],
      "text/plain": [
       "     ProsperScore  LoanStatus  ListingNumber_x  ListingNumber_y  Proportion\n",
       "0             1.0  Chargedoff              235              992    0.236895\n",
       "3             1.0   Defaulted               37              992    0.037298\n",
       "10            2.0  Chargedoff              377             5766    0.065383\n",
       "13            2.0   Defaulted               70             5766    0.012140\n",
       "21            3.0  Chargedoff              414             7642    0.054174\n",
       "24            3.0   Defaulted               75             7642    0.009814\n",
       "32            4.0  Chargedoff              784            12595    0.062247\n",
       "35            4.0   Defaulted              119            12595    0.009448\n",
       "43            5.0  Chargedoff              907             9813    0.092428\n",
       "46            5.0   Defaulted              165             9813    0.016814\n",
       "54            6.0  Chargedoff              925            12278    0.075338\n",
       "57            6.0   Defaulted              173            12278    0.014090\n",
       "65            7.0  Chargedoff              662            10597    0.062471\n",
       "68            7.0   Defaulted              135            10597    0.012739\n",
       "76            8.0  Chargedoff              666            12053    0.055256\n",
       "79            8.0   Defaulted              139            12053    0.011532\n",
       "87            9.0  Chargedoff              309             6911    0.044711\n",
       "90            9.0   Defaulted               71             6911    0.010273\n",
       "97           10.0  Chargedoff               57             4750    0.012000\n",
       "100          10.0   Defaulted               20             4750    0.004211"
      ]
     },
     "execution_count": 44,
     "metadata": {},
     "output_type": "execute_result"
    }
   ],
   "source": [
    "df_score_status_visual"
   ]
  },
  {
   "cell_type": "code",
   "execution_count": 45,
   "metadata": {},
   "outputs": [
    {
     "data": {
      "image/png": "[encoded data removed]",
      "text/plain": [
       "<Figure size 720x360 with 1 Axes>"
      ]
     },
     "metadata": {
      "needs_background": "light"
     },
     "output_type": "display_data"
    }
   ],
   "source": [
    "fig = plt.figure(figsize = (10,5))\n",
    "\n",
    "sb.barplot(data = df_score_status_visual, x = 'ProsperScore', y = 'Proportion', hue = 'LoanStatus');"
   ]
  },
  {
   "cell_type": "markdown",
   "metadata": {},
   "source": [
    "> This is telling us that more than 20% of the borrowers with a Prosper score of 1 have their loan charged off and almost 5% defaulted. These percentages go decreasing and are the lowest for borrowers with credit score equal to 10, which shows that the two features are correlated and people with a lower Prosper score tend to have a higher chance to have their loans charge off or default.  \n",
    "\n",
    "### 2) Loan Status vs Credit Grade/Prosper Rating\n",
    "> We will now perform a similar analysis, looking at the relationship between the amount of charged off/defaulted loans and credit rating."
   ]
  },
  {
   "cell_type": "code",
   "execution_count": 46,
   "metadata": {},
   "outputs": [],
   "source": [
    "df_creditGrade = df_loans[df_loans.CreditGrade.notnull()]\n",
    "df_creditGrade = df_creditGrade[df_creditGrade.LoanStatus.notnull()]\n",
    "\n",
    "#store totals per Credit Grade and Loan Status\n",
    "df_grade_status = pd.DataFrame(df_creditGrade.groupby(['CreditGrade', 'LoanStatus'])['ListingNumber'].count()).reset_index()\n",
    "\n",
    "#store totals per Credit Grade\n",
    "df_grade_aggregate = pd.DataFrame(df_grade_status.groupby('CreditGrade')['ListingNumber'].sum())"
   ]
  },
  {
   "cell_type": "code",
   "execution_count": 47,
   "metadata": {},
   "outputs": [],
   "source": [
    "#merge\n",
    "df_grade_status = df_grade_status.merge(df_grade_aggregate, on = 'CreditGrade', how = 'left')"
   ]
  },
  {
   "cell_type": "code",
   "execution_count": 48,
   "metadata": {},
   "outputs": [],
   "source": [
    "#get proportions\n",
    "df_grade_status['Proportion'] = df_grade_status['ListingNumber_x']/df_grade_status['ListingNumber_y']\n",
    "\n",
    "#for visual\n",
    "df_grade_status_visual = df_grade_status[df_grade_status['LoanStatus'].isin(['Chargedoff', 'Defaulted'])]"
   ]
  },
  {
   "cell_type": "code",
   "execution_count": 49,
   "metadata": {},
   "outputs": [
    {
     "data": {
      "image/png": "[encoded data removed]",
      "text/plain": [
       "<Figure size 720x360 with 1 Axes>"
      ]
     },
     "metadata": {
      "needs_background": "light"
     },
     "output_type": "display_data"
    }
   ],
   "source": [
    "fig = plt.figure(figsize = (10,5))\n",
    "order_creditGrade = ['NC', 'HR', 'E', 'D', 'C', 'B', 'A', 'AA']\n",
    "\n",
    "sb.barplot(data = df_grade_status_visual, x = 'CreditGrade', y = 'Proportion', hue = 'LoanStatus', order = order_creditGrade);"
   ]
  },
  {
   "cell_type": "code",
   "execution_count": 50,
   "metadata": {},
   "outputs": [],
   "source": [
    "df_prosperRating = df_loans[df_loans['ProsperRating (numeric)'].notnull()]\n",
    "df_prosperRating = df_prosperRating[df_prosperRating.LoanStatus.notnull()]\n",
    "\n",
    "#store totals per Prosper Rating and Loan Status\n",
    "df_rating_status = pd.DataFrame(df_prosperRating.groupby(['ProsperRating (numeric)', 'LoanStatus'])['ListingNumber'].count()).reset_index()\n",
    "\n",
    "#store totals per Prosper Rating\n",
    "df_rating_aggregate = pd.DataFrame(df_rating_status.groupby('ProsperRating (numeric)')['ListingNumber'].sum())\n",
    "\n",
    "#merge\n",
    "df_rating_status = df_rating_status.merge(df_rating_aggregate, on = 'ProsperRating (numeric)', how = 'left')"
   ]
  },
  {
   "cell_type": "code",
   "execution_count": 51,
   "metadata": {},
   "outputs": [],
   "source": [
    "#get proportions\n",
    "df_rating_status['Proportion'] = df_rating_status['ListingNumber_x']/df_rating_status['ListingNumber_y']\n",
    "\n",
    "#for visual\n",
    "df_rating_status_visual = df_rating_status[df_rating_status['LoanStatus'].isin(['Chargedoff', 'Defaulted'])]"
   ]
  },
  {
   "cell_type": "code",
   "execution_count": 52,
   "metadata": {},
   "outputs": [
    {
     "data": {
      "image/png": "[encoded data removed]",
      "text/plain": [
       "<Figure size 720x360 with 1 Axes>"
      ]
     },
     "metadata": {
      "needs_background": "light"
     },
     "output_type": "display_data"
    }
   ],
   "source": [
    "fig = plt.figure(figsize = (10,5))\n",
    "\n",
    "sb.barplot(data = df_rating_status_visual, x = 'ProsperRating (numeric)', y = 'Proportion', hue = 'LoanStatus');"
   ]
  },
  {
   "cell_type": "markdown",
   "metadata": {},
   "source": [
    "> A similar trend can be seen here, ie a higher credit grade or Prosper rating implies a lower amount of chargedoff and defaulted loans.\n",
    "> This shows that the rating allocated by Prosper is quite useful in determining the likelihood of loan default. \n",
    "\n",
    "### 3) Prosper Score vs Prosper Rating\n",
    "> We can guess that there is high correlation between Prosper Score and Prosper Rating but we can double-check this. Credit Grade might have had a high correlation with Prosper Score as well, however Prosper Score has been introduced as a measure when Prosper Rating was introduced.  "
   ]
  },
  {
   "cell_type": "code",
   "execution_count": 53,
   "metadata": {},
   "outputs": [],
   "source": [
    "df_score_rating = df_prosperRating[df_prosperRating.ProsperScore.notnull()]"
   ]
  },
  {
   "cell_type": "code",
   "execution_count": 54,
   "metadata": {},
   "outputs": [
    {
     "name": "stderr",
     "output_type": "stream",
     "text": [
      "/anaconda3/lib/python3.7/site-packages/scipy/stats/stats.py:1713: FutureWarning: Using a non-tuple sequence for multidimensional indexing is deprecated; use `arr[tuple(seq)]` instead of `arr[seq]`. In the future this will be interpreted as an array index, `arr[np.array(seq)]`, which will result either in an error or a different result.\n",
      "  return np.add.reduce(sorted[indexer] * weights, axis=axis) / sumval\n"
     ]
    },
    {
     "data": {
      "image/png": "[encoded data removed]",
      "text/plain": [
       "<Figure size 720x360 with 1 Axes>"
      ]
     },
     "metadata": {
      "needs_background": "light"
     },
     "output_type": "display_data"
    }
   ],
   "source": [
    "fig = plt.figure(figsize = (10,5))\n",
    "\n",
    "sb.regplot(data = df_score_rating, x = 'ProsperScore', y = 'ProsperRating (numeric)', x_jitter = 0.2, y_jitter = 0.2, scatter_kws = {'alpha' : 1/100});"
   ]
  },
  {
   "cell_type": "markdown",
   "metadata": {},
   "source": [
    "> There is a positive linear relationship between Prosper Score and Prosper Rating, ie a higher score leads to a higher rating. Therefore, we can check the relationship between other features and either one of Prosper Score/Prosper Rating interchangeably for the rest of our exploratory analysis and for the data after 2009.\n",
    "\n",
    "### 4) Homeowner vs Prosper Rating/Credit Grade\n",
    "> Next, we will assess the relationship between being a homeowner and Prosper Rating/CreditGrade. For easiness we will create a variable called rating that picks up either Credit Grade or Prosper Rating. "
   ]
  },
  {
   "cell_type": "code",
   "execution_count": 55,
   "metadata": {},
   "outputs": [
    {
     "data": {
      "text/html": [
       "<div>\n",
       "<style scoped>\n",
       "    .dataframe tbody tr th:only-of-type {\n",
       "        vertical-align: middle;\n",
       "    }\n",
       "\n",
       "    .dataframe tbody tr th {\n",
       "        vertical-align: top;\n",
       "    }\n",
       "\n",
       "    .dataframe thead th {\n",
       "        text-align: right;\n",
       "    }\n",
       "</style>\n",
       "<table border=\"1\" class=\"dataframe\">\n",
       "  <thead>\n",
       "    <tr style=\"text-align: right;\">\n",
       "      <th></th>\n",
       "      <th>ListingNumber</th>\n",
       "      <th>ListingCreationDate</th>\n",
       "      <th>CreditGrade</th>\n",
       "      <th>Term</th>\n",
       "      <th>LoanStatus</th>\n",
       "      <th>ClosedDate</th>\n",
       "      <th>ProsperRating (numeric)</th>\n",
       "      <th>ProsperScore</th>\n",
       "      <th>ListingCategory (numeric)</th>\n",
       "      <th>Occupation</th>\n",
       "      <th>EmploymentStatus</th>\n",
       "      <th>IsBorrowerHomeowner</th>\n",
       "      <th>Duration</th>\n",
       "      <th>months</th>\n",
       "    </tr>\n",
       "  </thead>\n",
       "  <tbody>\n",
       "  </tbody>\n",
       "</table>\n",
       "</div>"
      ],
      "text/plain": [
       "Empty DataFrame\n",
       "Columns: [ListingNumber, ListingCreationDate, CreditGrade, Term, LoanStatus, ClosedDate, ProsperRating (numeric), ProsperScore, ListingCategory (numeric), Occupation, EmploymentStatus, IsBorrowerHomeowner, Duration, months]\n",
       "Index: []"
      ]
     },
     "execution_count": 55,
     "metadata": {},
     "output_type": "execute_result"
    }
   ],
   "source": [
    "# check that there aren't listings for which both are N/A\n",
    "df_loans[(df_loans.CreditGrade.isnull())&(df_loans['ProsperRating (numeric)'].isnull())]"
   ]
  },
  {
   "cell_type": "code",
   "execution_count": 56,
   "metadata": {},
   "outputs": [
    {
     "data": {
      "text/html": [
       "<div>\n",
       "<style scoped>\n",
       "    .dataframe tbody tr th:only-of-type {\n",
       "        vertical-align: middle;\n",
       "    }\n",
       "\n",
       "    .dataframe tbody tr th {\n",
       "        vertical-align: top;\n",
       "    }\n",
       "\n",
       "    .dataframe thead th {\n",
       "        text-align: right;\n",
       "    }\n",
       "</style>\n",
       "<table border=\"1\" class=\"dataframe\">\n",
       "  <thead>\n",
       "    <tr style=\"text-align: right;\">\n",
       "      <th></th>\n",
       "      <th>ListingNumber</th>\n",
       "      <th>ListingCreationDate</th>\n",
       "      <th>CreditGrade</th>\n",
       "      <th>Term</th>\n",
       "      <th>LoanStatus</th>\n",
       "      <th>ClosedDate</th>\n",
       "      <th>ProsperRating (numeric)</th>\n",
       "      <th>ProsperScore</th>\n",
       "      <th>ListingCategory (numeric)</th>\n",
       "      <th>Occupation</th>\n",
       "      <th>EmploymentStatus</th>\n",
       "      <th>IsBorrowerHomeowner</th>\n",
       "      <th>Duration</th>\n",
       "      <th>months</th>\n",
       "    </tr>\n",
       "  </thead>\n",
       "  <tbody>\n",
       "  </tbody>\n",
       "</table>\n",
       "</div>"
      ],
      "text/plain": [
       "Empty DataFrame\n",
       "Columns: [ListingNumber, ListingCreationDate, CreditGrade, Term, LoanStatus, ClosedDate, ProsperRating (numeric), ProsperScore, ListingCategory (numeric), Occupation, EmploymentStatus, IsBorrowerHomeowner, Duration, months]\n",
       "Index: []"
      ]
     },
     "execution_count": 56,
     "metadata": {},
     "output_type": "execute_result"
    }
   ],
   "source": [
    "# check that there aren't listings for which both are populated\n",
    "df_loans[(df_loans.CreditGrade.notnull())&(df_loans['ProsperRating (numeric)'].notnull())]"
   ]
  },
  {
   "cell_type": "code",
   "execution_count": 57,
   "metadata": {},
   "outputs": [],
   "source": [
    "#create Rating column that gets populated with either credit grade or prosper rating\n",
    "df_loans['Rating'] = ''\n",
    "\n",
    "m1 = df_loans['CreditGrade'].notnull()\n",
    "m2 = df_loans['ProsperRating (numeric)'].notnull()\n",
    "\n",
    "df_loans['Rating'] = df_loans['Rating'].mask(m1, df_loans['CreditGrade']).mask(m2, df_loans['ProsperRating (numeric)'])"
   ]
  },
  {
   "cell_type": "code",
   "execution_count": 58,
   "metadata": {},
   "outputs": [],
   "source": [
    "#store totals per Rating and Homeowner status\n",
    "df_rating_home = pd.DataFrame(df_loans.groupby(['Rating', 'IsBorrowerHomeowner'])['ListingNumber'].count()).reset_index()\n",
    "\n",
    "#store totals per Rating\n",
    "df_home_aggregate = pd.DataFrame(df_rating_home.groupby('Rating')['ListingNumber'].sum())\n",
    "\n",
    "#merge\n",
    "df_rating_home = df_rating_home.merge(df_home_aggregate, on = 'Rating', how = 'left')"
   ]
  },
  {
   "cell_type": "code",
   "execution_count": 59,
   "metadata": {},
   "outputs": [
    {
     "data": {
      "image/png": "[encoded data removed]",
      "text/plain": [
       "<Figure size 720x360 with 1 Axes>"
      ]
     },
     "metadata": {
      "needs_background": "light"
     },
     "output_type": "display_data"
    }
   ],
   "source": [
    "#get proportions\n",
    "df_rating_home['Proportion'] = df_rating_home['ListingNumber_x']/df_rating_home['ListingNumber_y']\n",
    "\n",
    "fig = plt.figure(figsize = (10,5))\n",
    "\n",
    "sb.barplot(data = df_rating_home, x = 'Rating', y = 'Proportion', hue = 'IsBorrowerHomeowner');"
   ]
  },
  {
   "cell_type": "markdown",
   "metadata": {},
   "source": [
    "> We can see a peak of homeowners in the centre, where rating is AA/A or 6/7, decreasing with lower credit ratings. The opposite trend can be observed for non homeowners.  \n",
    "\n",
    "### 5) Homeowner vs Loan Status\n",
    "> Do homeowners tend to default or have loans charged off less often?"
   ]
  },
  {
   "cell_type": "code",
   "execution_count": 60,
   "metadata": {},
   "outputs": [],
   "source": [
    "default_off = df_loans[df_loans.LoanStatus.isin(['Chargedoff', 'Defaulted'])]"
   ]
  },
  {
   "cell_type": "code",
   "execution_count": 61,
   "metadata": {},
   "outputs": [
    {
     "name": "stdout",
     "output_type": "stream",
     "text": [
      "<class 'pandas.core.frame.DataFrame'>\n",
      "Int64Index: 17000 entries, 74792 to 106807\n",
      "Data columns (total 15 columns):\n",
      "ListingNumber                17000 non-null int64\n",
      "ListingCreationDate          17000 non-null datetime64[ns]\n",
      "CreditGrade                  10660 non-null object\n",
      "Term                         17000 non-null int64\n",
      "LoanStatus                   17000 non-null object\n",
      "ClosedDate                   17000 non-null datetime64[ns]\n",
      "ProsperRating (numeric)      6340 non-null float64\n",
      "ProsperScore                 6340 non-null float64\n",
      "ListingCategory (numeric)    17000 non-null int64\n",
      "Occupation                   16187 non-null object\n",
      "EmploymentStatus             16187 non-null object\n",
      "IsBorrowerHomeowner          17000 non-null bool\n",
      "Duration                     17000 non-null float64\n",
      "months                       17000 non-null float64\n",
      "Rating                       17000 non-null object\n",
      "dtypes: bool(1), datetime64[ns](2), float64(4), int64(3), object(5)\n",
      "memory usage: 2.0+ MB\n"
     ]
    }
   ],
   "source": [
    "default_off.info()"
   ]
  },
  {
   "cell_type": "code",
   "execution_count": 62,
   "metadata": {},
   "outputs": [
    {
     "data": {
      "text/html": [
       "<div>\n",
       "<style scoped>\n",
       "    .dataframe tbody tr th:only-of-type {\n",
       "        vertical-align: middle;\n",
       "    }\n",
       "\n",
       "    .dataframe tbody tr th {\n",
       "        vertical-align: top;\n",
       "    }\n",
       "\n",
       "    .dataframe thead th {\n",
       "        text-align: right;\n",
       "    }\n",
       "</style>\n",
       "<table border=\"1\" class=\"dataframe\">\n",
       "  <thead>\n",
       "    <tr style=\"text-align: right;\">\n",
       "      <th></th>\n",
       "      <th>ListingNumber</th>\n",
       "      <th>ListingCreationDate</th>\n",
       "      <th>CreditGrade</th>\n",
       "      <th>Term</th>\n",
       "      <th>LoanStatus</th>\n",
       "      <th>ClosedDate</th>\n",
       "      <th>ProsperRating (numeric)</th>\n",
       "      <th>ProsperScore</th>\n",
       "      <th>ListingCategory (numeric)</th>\n",
       "      <th>Occupation</th>\n",
       "      <th>EmploymentStatus</th>\n",
       "      <th>Duration</th>\n",
       "      <th>months</th>\n",
       "      <th>Rating</th>\n",
       "    </tr>\n",
       "    <tr>\n",
       "      <th>IsBorrowerHomeowner</th>\n",
       "      <th></th>\n",
       "      <th></th>\n",
       "      <th></th>\n",
       "      <th></th>\n",
       "      <th></th>\n",
       "      <th></th>\n",
       "      <th></th>\n",
       "      <th></th>\n",
       "      <th></th>\n",
       "      <th></th>\n",
       "      <th></th>\n",
       "      <th></th>\n",
       "      <th></th>\n",
       "      <th></th>\n",
       "    </tr>\n",
       "  </thead>\n",
       "  <tbody>\n",
       "    <tr>\n",
       "      <th>False</th>\n",
       "      <td>9400</td>\n",
       "      <td>9400</td>\n",
       "      <td>5998</td>\n",
       "      <td>9400</td>\n",
       "      <td>9400</td>\n",
       "      <td>9400</td>\n",
       "      <td>3402</td>\n",
       "      <td>3402</td>\n",
       "      <td>9400</td>\n",
       "      <td>8793</td>\n",
       "      <td>8793</td>\n",
       "      <td>9400</td>\n",
       "      <td>9400</td>\n",
       "      <td>9400</td>\n",
       "    </tr>\n",
       "    <tr>\n",
       "      <th>True</th>\n",
       "      <td>7600</td>\n",
       "      <td>7600</td>\n",
       "      <td>4662</td>\n",
       "      <td>7600</td>\n",
       "      <td>7600</td>\n",
       "      <td>7600</td>\n",
       "      <td>2938</td>\n",
       "      <td>2938</td>\n",
       "      <td>7600</td>\n",
       "      <td>7394</td>\n",
       "      <td>7394</td>\n",
       "      <td>7600</td>\n",
       "      <td>7600</td>\n",
       "      <td>7600</td>\n",
       "    </tr>\n",
       "  </tbody>\n",
       "</table>\n",
       "</div>"
      ],
      "text/plain": [
       "                     ListingNumber  ListingCreationDate  CreditGrade  Term  \\\n",
       "IsBorrowerHomeowner                                                          \n",
       "False                         9400                 9400         5998  9400   \n",
       "True                          7600                 7600         4662  7600   \n",
       "\n",
       "                     LoanStatus  ClosedDate  ProsperRating (numeric)  \\\n",
       "IsBorrowerHomeowner                                                    \n",
       "False                      9400        9400                     3402   \n",
       "True                       7600        7600                     2938   \n",
       "\n",
       "                     ProsperScore  ListingCategory (numeric)  Occupation  \\\n",
       "IsBorrowerHomeowner                                                        \n",
       "False                        3402                       9400        8793   \n",
       "True                         2938                       7600        7394   \n",
       "\n",
       "                     EmploymentStatus  Duration  months  Rating  \n",
       "IsBorrowerHomeowner                                              \n",
       "False                            8793      9400    9400    9400  \n",
       "True                             7394      7600    7600    7600  "
      ]
     },
     "execution_count": 62,
     "metadata": {},
     "output_type": "execute_result"
    }
   ],
   "source": [
    "default_off.groupby('IsBorrowerHomeowner').count()"
   ]
  },
  {
   "cell_type": "code",
   "execution_count": 63,
   "metadata": {},
   "outputs": [
    {
     "data": {
      "text/plain": [
       "0.5529411764705883"
      ]
     },
     "execution_count": 63,
     "metadata": {},
     "output_type": "execute_result"
    }
   ],
   "source": [
    "9400/17000"
   ]
  },
  {
   "cell_type": "code",
   "execution_count": 64,
   "metadata": {},
   "outputs": [
    {
     "data": {
      "text/plain": [
       "True     56440\n",
       "False    55910\n",
       "Name: IsBorrowerHomeowner, dtype: int64"
      ]
     },
     "execution_count": 64,
     "metadata": {},
     "output_type": "execute_result"
    }
   ],
   "source": [
    "df_loans.IsBorrowerHomeowner.value_counts()"
   ]
  },
  {
   "cell_type": "code",
   "execution_count": 65,
   "metadata": {},
   "outputs": [
    {
     "data": {
      "text/plain": [
       "0.4976412995104584"
      ]
     },
     "execution_count": 65,
     "metadata": {},
     "output_type": "execute_result"
    }
   ],
   "source": [
    "55910/(55910+56440)"
   ]
  },
  {
   "cell_type": "markdown",
   "metadata": {},
   "source": [
    "> While in the full dataset we have that 49.8% of the borrowers are not homeowners, when we look at the population of charged off and defaulted loans, 55.3% do not own a house, indicating there might be some correlation between these two variables. "
   ]
  },
  {
   "cell_type": "markdown",
   "metadata": {},
   "source": [
    "### 6) Duration vs Term\n",
    "> We have calculated the duration in months for the completed loans, as we do not have a closed date for Current or Past Due loans. We now want to check the performance between duration and originally set term of loans that are completed. "
   ]
  },
  {
   "cell_type": "code",
   "execution_count": 66,
   "metadata": {},
   "outputs": [],
   "source": [
    "df_duration = df_loans[df_loans['months'].notnull()]"
   ]
  },
  {
   "cell_type": "code",
   "execution_count": 67,
   "metadata": {},
   "outputs": [
    {
     "data": {
      "image/png": "[encoded data removed]",
      "text/plain": [
       "<Figure size 720x360 with 1 Axes>"
      ]
     },
     "metadata": {
      "needs_background": "light"
     },
     "output_type": "display_data"
    }
   ],
   "source": [
    "fig = plt.figure(figsize = (10,5))\n",
    "sb.violinplot(data = df_duration, x = 'Term', y = 'months', color = base);"
   ]
  },
  {
   "cell_type": "code",
   "execution_count": 68,
   "metadata": {},
   "outputs": [
    {
     "data": {
      "text/plain": [
       "Term  LoanStatus            \n",
       "12    Chargedoff                   72\n",
       "      Completed                  1449\n",
       "      Current                      62\n",
       "      Defaulted                    10\n",
       "      FinalPaymentInProgress       10\n",
       "      Past Due (1-15 days)          3\n",
       "      Past Due (16-30 days)         3\n",
       "      Past Due (31-60 days)         1\n",
       "      Past Due (61-90 days)         2\n",
       "      Past Due (91-120 days)        1\n",
       "36    Cancelled                     5\n",
       "      Chargedoff                10828\n",
       "      Completed                 34058\n",
       "      Current                   35362\n",
       "      Defaulted                  4818\n",
       "      FinalPaymentInProgress      155\n",
       "      Past Due (1-15 days)        553\n",
       "      Past Due (16-30 days)       174\n",
       "      Past Due (31-60 days)       239\n",
       "      Past Due (61-90 days)       205\n",
       "      Past Due (91-120 days)      193\n",
       "      Past Due (>120 days)          9\n",
       "60    Chargedoff                 1086\n",
       "      Completed                  2414\n",
       "      Current                   19733\n",
       "      Defaulted                   186\n",
       "      FinalPaymentInProgress       37\n",
       "      Past Due (1-15 days)        249\n",
       "      Past Due (16-30 days)        88\n",
       "      Past Due (31-60 days)       123\n",
       "      Past Due (61-90 days)       105\n",
       "      Past Due (91-120 days)      110\n",
       "      Past Due (>120 days)          7\n",
       "Name: ListingNumber, dtype: int64"
      ]
     },
     "execution_count": 68,
     "metadata": {},
     "output_type": "execute_result"
    }
   ],
   "source": [
    "df_loans.groupby(['Term', 'LoanStatus']).count()['ListingNumber']"
   ]
  },
  {
   "cell_type": "code",
   "execution_count": 69,
   "metadata": {},
   "outputs": [
    {
     "data": {
      "text/plain": [
       "Timestamp('2010-07-02 02:01:21.567000')"
      ]
     },
     "execution_count": 69,
     "metadata": {},
     "output_type": "execute_result"
    }
   ],
   "source": [
    "df_loans[df_loans['Term']==60]['ListingCreationDate'].min()"
   ]
  },
  {
   "cell_type": "code",
   "execution_count": 70,
   "metadata": {},
   "outputs": [
    {
     "data": {
      "text/plain": [
       "Timestamp('2014-03-10 12:20:53.760000')"
      ]
     },
     "execution_count": 70,
     "metadata": {},
     "output_type": "execute_result"
    }
   ],
   "source": [
    "df_loans['ListingCreationDate'].max()"
   ]
  },
  {
   "cell_type": "markdown",
   "metadata": {},
   "source": [
    "> A very interesting insight can be gathered here: most of the loans with term of 12 or 36 months were kept across the whole duration, whereas the ones with a term of 5 years were repaid earlier. It's also true that we do not have much data as most of the loans with a term of 60 months are still active. The first of these loans was created in 2010 and the dataset gets to 2014. \n",
    "\n",
    "### 7) Duration vs Loan Status\n",
    "> Let's look at the term distribution of charged off and defaulted loans."
   ]
  },
  {
   "cell_type": "code",
   "execution_count": 71,
   "metadata": {},
   "outputs": [
    {
     "data": {
      "image/png": "[encoded data removed]",
      "text/plain": [
       "<Figure size 432x288 with 1 Axes>"
      ]
     },
     "metadata": {
      "needs_background": "light"
     },
     "output_type": "display_data"
    }
   ],
   "source": [
    "plt.hist(data = default_off, x = 'months'); #right-skewed distribution"
   ]
  },
  {
   "cell_type": "code",
   "execution_count": 72,
   "metadata": {},
   "outputs": [
    {
     "data": {
      "image/png": "[encoded data removed]",
      "text/plain": [
       "<Figure size 432x288 with 1 Axes>"
      ]
     },
     "metadata": {
      "needs_background": "light"
     },
     "output_type": "display_data"
    }
   ],
   "source": [
    "#on the whole dataset for comparison\n",
    "plt.hist(data = df_loans, x = 'months');"
   ]
  },
  {
   "cell_type": "markdown",
   "metadata": {},
   "source": [
    "> We can see the peak is in 1Y duration rather than 3Y as in the full dataset. We will look now at the term. \n",
    "\n",
    "### 8) Term vs Loan Status"
   ]
  },
  {
   "cell_type": "code",
   "execution_count": 73,
   "metadata": {},
   "outputs": [
    {
     "data": {
      "image/png": "[encoded data removed]",
      "text/plain": [
       "<Figure size 432x288 with 1 Axes>"
      ]
     },
     "metadata": {
      "needs_background": "light"
     },
     "output_type": "display_data"
    }
   ],
   "source": [
    "total_default_off = default_off.shape[0]\n",
    "\n",
    "ax_default_off = sb.countplot(data = default_off, x = 'Term', color = base)\n",
    "\n",
    "for p in ax_default_off.patches:\n",
    "    height = p.get_height()\n",
    "    ax_default_off.text(p.get_x()+p.get_width()/2.,\n",
    "            height + 3,\n",
    "            '{:1.2f}'.format(height/total_default_off),\n",
    "            ha=\"center\");"
   ]
  },
  {
   "cell_type": "code",
   "execution_count": 74,
   "metadata": {},
   "outputs": [
    {
     "data": {
      "image/png": "[encoded data removed]",
      "text/plain": [
       "<Figure size 432x288 with 1 Axes>"
      ]
     },
     "metadata": {
      "needs_background": "light"
     },
     "output_type": "display_data"
    }
   ],
   "source": [
    "#on the whole dataset for comparison\n",
    "ax = sb.countplot(data = df_loans, x = 'Term', color= base)\n",
    "total = df_loans.shape[0]\n",
    "\n",
    "for p in ax.patches:\n",
    "    height = p.get_height()\n",
    "    ax.text(p.get_x()+p.get_width()/2.,\n",
    "            height + 3,\n",
    "            '{:1.2f}'.format(height/total),\n",
    "            ha=\"center\");"
   ]
  },
  {
   "cell_type": "markdown",
   "metadata": {},
   "source": [
    "> Let's look at whether the creation or closed date can be an indicator of default."
   ]
  },
  {
   "cell_type": "code",
   "execution_count": 75,
   "metadata": {},
   "outputs": [],
   "source": [
    "default_year_create = pd.DataFrame(default_off.set_index('ListingCreationDate').groupby(pd.Grouper(freq='Y'))['ListingNumber'].count().reset_index())\n",
    "default_year_create['Proportion'] = default_year_create['ListingNumber']/total_default_off"
   ]
  },
  {
   "cell_type": "code",
   "execution_count": 76,
   "metadata": {},
   "outputs": [
    {
     "data": {
      "image/png": "[encoded data removed]",
      "text/plain": [
       "<Figure size 720x360 with 1 Axes>"
      ]
     },
     "metadata": {
      "needs_background": "light"
     },
     "output_type": "display_data"
    }
   ],
   "source": [
    "fig = plt.figure(figsize = (10,5))\n",
    "\n",
    "sb.barplot(data = default_year_create, x = 'ListingCreationDate', y= 'Proportion', color = base)\n",
    "plt.xticks(plt.xticks()[0], (default_year_create.ListingCreationDate.dt.year.astype(str)), rotation=90)\n",
    "plt.tight_layout();"
   ]
  },
  {
   "cell_type": "code",
   "execution_count": 77,
   "metadata": {},
   "outputs": [],
   "source": [
    "create = pd.DataFrame(df_loans.set_index('ListingCreationDate').groupby(pd.Grouper(freq='Y'))['ListingNumber'].count().reset_index())\n",
    "create['Proportion'] = create['ListingNumber']/total"
   ]
  },
  {
   "cell_type": "code",
   "execution_count": 78,
   "metadata": {},
   "outputs": [
    {
     "data": {
      "image/png": "[encoded data removed]",
      "text/plain": [
       "<Figure size 720x360 with 1 Axes>"
      ]
     },
     "metadata": {
      "needs_background": "light"
     },
     "output_type": "display_data"
    }
   ],
   "source": [
    "fig = plt.figure(figsize = (10,5))\n",
    "\n",
    "sb.barplot(data = create, x = 'ListingCreationDate', y= 'Proportion', color = base)\n",
    "\n",
    "plt.xticks(plt.xticks()[0], (create.ListingCreationDate.dt.year.astype(str)), rotation=90)\n",
    "plt.tight_layout();"
   ]
  },
  {
   "cell_type": "code",
   "execution_count": 79,
   "metadata": {},
   "outputs": [],
   "source": [
    "default_year_close = pd.DataFrame(default_off.set_index('ClosedDate').groupby(pd.Grouper(freq='Y'))['ListingNumber'].count().reset_index())\n",
    "default_year_close['Proportion'] = default_year_close['ListingNumber']/total_default_off"
   ]
  },
  {
   "cell_type": "code",
   "execution_count": 80,
   "metadata": {},
   "outputs": [
    {
     "data": {
      "image/png": "[encoded data removed]",
      "text/plain": [
       "<Figure size 720x360 with 1 Axes>"
      ]
     },
     "metadata": {
      "needs_background": "light"
     },
     "output_type": "display_data"
    }
   ],
   "source": [
    "fig = plt.figure(figsize = (10,5))\n",
    "\n",
    "sb.barplot(data = default_year_close, x = 'ClosedDate', y= 'Proportion', color = base)\n",
    "plt.xticks(plt.xticks()[0], (default_year_close.ClosedDate.dt.year.astype(str)), rotation=90)\n",
    "plt.tight_layout();"
   ]
  },
  {
   "cell_type": "code",
   "execution_count": 81,
   "metadata": {},
   "outputs": [],
   "source": [
    "close = pd.DataFrame(df_loans.set_index('ClosedDate').groupby(pd.Grouper(freq='Y'))['ListingNumber'].count().reset_index())\n",
    "close['Proportion'] = close['ListingNumber']/total"
   ]
  },
  {
   "cell_type": "code",
   "execution_count": 82,
   "metadata": {},
   "outputs": [
    {
     "data": {
      "image/png": "[encoded data removed]",
      "text/plain": [
       "<Figure size 720x360 with 1 Axes>"
      ]
     },
     "metadata": {
      "needs_background": "light"
     },
     "output_type": "display_data"
    }
   ],
   "source": [
    "fig = plt.figure(figsize = (10,5))\n",
    "\n",
    "sb.barplot(data = close, x = 'ClosedDate', y= 'Proportion', color = base)\n",
    "plt.xticks(plt.xticks()[0], (close.ClosedDate.dt.year.astype(str)), rotation=90)\n",
    "plt.tight_layout();"
   ]
  },
  {
   "cell_type": "markdown",
   "metadata": {},
   "source": [
    "> The loans that defaulted or got charged off have a higher percentage of 3Y contractual term, compared to the full population. \n",
    "> A super interesting insight came from looking at the creation and closed date of the loans: a great majority of the defaulted and charged off loans were closed in 2008 and 2009. \n",
    "\n",
    "### 9) Term vs Category"
   ]
  },
  {
   "cell_type": "code",
   "execution_count": 83,
   "metadata": {},
   "outputs": [
    {
     "data": {
      "text/plain": [
       "ListingNumber                    0\n",
       "ListingCreationDate              0\n",
       "CreditGrade                  83397\n",
       "Term                             0\n",
       "LoanStatus                       0\n",
       "ClosedDate                   57424\n",
       "ProsperRating (numeric)      28953\n",
       "ProsperScore                 28953\n",
       "ListingCategory (numeric)        0\n",
       "Occupation                    3568\n",
       "EmploymentStatus              2255\n",
       "IsBorrowerHomeowner              0\n",
       "Duration                     57424\n",
       "months                       57424\n",
       "Rating                           0\n",
       "dtype: int64"
      ]
     },
     "execution_count": 83,
     "metadata": {},
     "output_type": "execute_result"
    }
   ],
   "source": [
    "df_loans.isnull().sum()"
   ]
  },
  {
   "cell_type": "code",
   "execution_count": 84,
   "metadata": {},
   "outputs": [],
   "source": [
    "#store totals per Category and Term\n",
    "df_category = pd.DataFrame(df_loans.groupby(['ListingCategory (numeric)', 'Term'])['ListingNumber'].count()).reset_index()\n",
    "\n",
    "#store totals per Category\n",
    "category_aggregate = pd.DataFrame(df_category.groupby('ListingCategory (numeric)')['ListingNumber'].sum())\n",
    "\n",
    "#merge\n",
    "df_category = df_category.merge(category_aggregate, on = 'ListingCategory (numeric)', how = 'left')"
   ]
  },
  {
   "cell_type": "code",
   "execution_count": 85,
   "metadata": {},
   "outputs": [
    {
     "data": {
      "image/png": "[encoded data removed]",
      "text/plain": [
       "<Figure size 720x360 with 1 Axes>"
      ]
     },
     "metadata": {
      "needs_background": "light"
     },
     "output_type": "display_data"
    }
   ],
   "source": [
    "#get proportions\n",
    "df_category['Proportion'] = df_category['ListingNumber_x']/df_category['ListingNumber_y']\n",
    "\n",
    "fig = plt.figure(figsize = (10,5))\n",
    "\n",
    "sb.barplot(data = df_category, x = 'ListingCategory (numeric)', y = 'Proportion', hue = 'Term');"
   ]
  },
  {
   "cell_type": "markdown",
   "metadata": {},
   "source": [
    "> For each of the category we have that the higher percentage comes from 3Y loans. For category 8 (Baby and Adoption), the proportion of 5Y loans get closer to the one of 3Y loans. Let's now look at the highest category for each term, ie we look at the relation between these two variables the other way round. "
   ]
  },
  {
   "cell_type": "code",
   "execution_count": 86,
   "metadata": {},
   "outputs": [],
   "source": [
    "df_12 = df_loans[df_loans.Term == 12]\n",
    "df_36 = df_loans[df_loans.Term == 36]\n",
    "df_60 = df_loans[df_loans.Term == 60]"
   ]
  },
  {
   "cell_type": "code",
   "execution_count": 87,
   "metadata": {},
   "outputs": [
    {
     "data": {
      "image/png": "[encoded data removed]",
      "text/plain": [
       "<Figure size 720x360 with 1 Axes>"
      ]
     },
     "metadata": {
      "needs_background": "light"
     },
     "output_type": "display_data"
    }
   ],
   "source": [
    "fig = plt.figure(figsize = (10,5))\n",
    "order_12 = df_12['ListingCategory (numeric)'].value_counts().index.tolist()\n",
    "total_12 = df_12.shape[0]\n",
    "\n",
    "ax_12 = sb.countplot(data = df_12, x = 'ListingCategory (numeric)', color = base, order = order_12)\n",
    "\n",
    "for p in ax_12.patches:\n",
    "    height = p.get_height()\n",
    "    ax_12.text(p.get_x()+p.get_width()/2.,\n",
    "            height + 3,\n",
    "            '{:0.2f}'.format(height/total_12),\n",
    "            ha=\"center\") \n",
    "plt.show();"
   ]
  },
  {
   "cell_type": "code",
   "execution_count": 88,
   "metadata": {},
   "outputs": [
    {
     "data": {
      "image/png": "[encoded data removed]",
      "text/plain": [
       "<Figure size 720x360 with 1 Axes>"
      ]
     },
     "metadata": {
      "needs_background": "light"
     },
     "output_type": "display_data"
    }
   ],
   "source": [
    "fig = plt.figure(figsize = (10,5))\n",
    "order_36 = df_36['ListingCategory (numeric)'].value_counts().index.tolist()\n",
    "total_36 = df_36.shape[0]\n",
    "\n",
    "ax_36 = sb.countplot(data = df_36, x = 'ListingCategory (numeric)', color = base, order = order_36)\n",
    "\n",
    "for p in ax_36.patches:\n",
    "    height = p.get_height()\n",
    "    ax_36.text(p.get_x()+p.get_width()/2.,\n",
    "            height + 3,\n",
    "            '{:0.2f}'.format(height/total_36),\n",
    "            ha=\"center\") \n",
    "plt.show();"
   ]
  },
  {
   "cell_type": "code",
   "execution_count": 89,
   "metadata": {},
   "outputs": [
    {
     "data": {
      "image/png": "[encoded data removed]",
      "text/plain": [
       "<Figure size 720x360 with 1 Axes>"
      ]
     },
     "metadata": {
      "needs_background": "light"
     },
     "output_type": "display_data"
    }
   ],
   "source": [
    "fig = plt.figure(figsize = (10,5))\n",
    "order_60 = df_60['ListingCategory (numeric)'].value_counts().index.tolist()\n",
    "total_60 = df_60.shape[0]\n",
    "\n",
    "ax_60 = sb.countplot(data = df_60, x = 'ListingCategory (numeric)', color = base, order = order_60)\n",
    "\n",
    "for p in ax_60.patches:\n",
    "    height = p.get_height()\n",
    "    ax_60.text(p.get_x()+p.get_width()/2.,\n",
    "            height + 3,\n",
    "            '{:0.2f}'.format(height/total_60),\n",
    "            ha=\"center\") \n",
    "plt.show();"
   ]
  },
  {
   "cell_type": "markdown",
   "metadata": {},
   "source": [
    "> Here we note that higher the term, higher is the proportion of loans for Debt Consolidation.\n",
    "\n",
    "### 10) Term vs Rating\n",
    "> Do borrowers with higher credit rating get a loan with higher term?"
   ]
  },
  {
   "cell_type": "code",
   "execution_count": 90,
   "metadata": {},
   "outputs": [],
   "source": [
    "df_term_rating = pd.DataFrame(df_loans.groupby(['Rating', 'Term']).count()['ListingNumber']).reset_index()\n",
    "df_term_rating['Proportion'] = df_term_rating['ListingNumber']/112350"
   ]
  },
  {
   "cell_type": "code",
   "execution_count": 91,
   "metadata": {},
   "outputs": [
    {
     "data": {
      "image/png": "[encoded data removed]",
      "text/plain": [
       "<Figure size 720x360 with 1 Axes>"
      ]
     },
     "metadata": {
      "needs_background": "light"
     },
     "output_type": "display_data"
    }
   ],
   "source": [
    "fig = plt.figure(figsize = (10,5))\n",
    "\n",
    "sb.barplot(data = df_term_rating, x = 'Rating', y = 'Proportion', hue = 'Term');"
   ]
  },
  {
   "cell_type": "markdown",
   "metadata": {},
   "source": [
    "> Only 3Y loans seem to be present before 2009, so let's focus on the period after 2009 and at the Prosper score."
   ]
  },
  {
   "cell_type": "code",
   "execution_count": 92,
   "metadata": {},
   "outputs": [
    {
     "data": {
      "image/png": "[encoded data removed]",
      "text/plain": [
       "<Figure size 720x360 with 1 Axes>"
      ]
     },
     "metadata": {
      "needs_background": "light"
     },
     "output_type": "display_data"
    }
   ],
   "source": [
    "fig = plt.figure(figsize = (10,5))\n",
    "order_12 = df_12['ProsperScore'].value_counts().index.tolist()\n",
    "total_12 = df_12.ProsperScore.value_counts().sum()\n",
    "\n",
    "ax_12 = sb.countplot(data = df_12, x = 'ProsperScore', color = base, order = order_12)\n",
    "\n",
    "for p in ax_12.patches:\n",
    "    height = p.get_height()\n",
    "    ax_12.text(p.get_x()+p.get_width()/2.,\n",
    "            height + 3,\n",
    "            '{:0.2f}'.format(height/total_12),\n",
    "            ha=\"center\") \n",
    "plt.show();"
   ]
  },
  {
   "cell_type": "code",
   "execution_count": 93,
   "metadata": {},
   "outputs": [
    {
     "data": {
      "text/plain": [
       "6.61"
      ]
     },
     "execution_count": 93,
     "metadata": {},
     "output_type": "execute_result"
    }
   ],
   "source": [
    "0.19*8+0.18*6+10*0.12+0.12*7+5*0.1+9*0.1+4*0.08+2*0.05+3*0.04+1*0.03"
   ]
  },
  {
   "cell_type": "code",
   "execution_count": 94,
   "metadata": {},
   "outputs": [
    {
     "data": {
      "image/png": "[encoded data removed]",
      "text/plain": [
       "<Figure size 720x360 with 1 Axes>"
      ]
     },
     "metadata": {
      "needs_background": "light"
     },
     "output_type": "display_data"
    }
   ],
   "source": [
    "fig = plt.figure(figsize = (10,5))\n",
    "order_36 = df_36['ProsperScore'].value_counts().index.tolist()\n",
    "total_36 = df_36.ProsperScore.value_counts().sum()\n",
    "\n",
    "ax_36 = sb.countplot(data = df_36, x = 'ProsperScore', color = base, order = order_36)\n",
    "\n",
    "for p in ax_36.patches:\n",
    "    height = p.get_height()\n",
    "    ax_36.text(p.get_x()+p.get_width()/2.,\n",
    "            height + 3,\n",
    "            '{:0.2f}'.format(height/total_36),\n",
    "            ha=\"center\") \n",
    "plt.show();"
   ]
  },
  {
   "cell_type": "code",
   "execution_count": 95,
   "metadata": {},
   "outputs": [
    {
     "data": {
      "text/plain": [
       "5.88"
      ]
     },
     "execution_count": 95,
     "metadata": {},
     "output_type": "execute_result"
    }
   ],
   "source": [
    "4*0.15+8*0.14+0.14*6+0.12*5+0.12*7+0.1*3+0.09*9+2*0.08 +10*0.06 + 0.01*1"
   ]
  },
  {
   "cell_type": "code",
   "execution_count": 96,
   "metadata": {},
   "outputs": [
    {
     "data": {
      "image/png": "[encoded data removed]",
      "text/plain": [
       "<Figure size 720x360 with 1 Axes>"
      ]
     },
     "metadata": {
      "needs_background": "light"
     },
     "output_type": "display_data"
    }
   ],
   "source": [
    "fig = plt.figure(figsize = (10,5))\n",
    "order_60 = df_60['ProsperScore'].value_counts().index.tolist()\n",
    "total_60 = df_60.ProsperScore.value_counts().sum()\n",
    "\n",
    "ax_60 = sb.countplot(data = df_60, x = 'ProsperScore', color = base, order = order_60)\n",
    "\n",
    "for p in ax_60.patches:\n",
    "    height = p.get_height()\n",
    "    ax_60.text(p.get_x()+p.get_width()/2.,\n",
    "            height + 3,\n",
    "            '{:0.2f}'.format(height/total_60),\n",
    "            ha=\"center\") \n",
    "plt.show();"
   ]
  },
  {
   "cell_type": "code",
   "execution_count": 97,
   "metadata": {},
   "outputs": [
    {
     "data": {
      "text/plain": [
       "5.949999999999999"
      ]
     },
     "execution_count": 97,
     "metadata": {},
     "output_type": "execute_result"
    }
   ],
   "source": [
    "6*0.17+4*0.15+0.15*7+0.15*8+0.12*5+3*0.08+9*0.07+10*0.05+2*0.05+1*0.01"
   ]
  },
  {
   "cell_type": "markdown",
   "metadata": {},
   "source": [
    "> Unfortunately, I cannot derive any insights from here as it seems that 1Y loans have a higher rating but 5Y loans have higher rating than 3Y loans. "
   ]
  },
  {
   "cell_type": "markdown",
   "metadata": {},
   "source": [
    "### Talk about some of the relationships you observed in this part of the investigation. How did the feature(s) of interest vary with other features in the dataset?\n",
    "\n",
    "> We considered credit rating as one of the main features in the analysis. This varied in accordance to common sense and expectations. Some of the insights below: \n",
    "   - Prosper Score and Prosper Rating are highly correlated variables.\n",
    "   - People with a lower Prosper score or Credit Rating tend to have a higher chance to have their loans charge off or default. This also tells us that the rating is a good and useful indicator for Prosper, which is always good news!\n",
    "   -  There is a peak of homeowners where rating is AA/A or 6/7 and the amount is decreasing with lower credit ratings. \n",
    "   - There is a smaller proportion of homeowners in the sample of defaulted and charged off loans, compared to the full population.\n",
    "\n",
    "### Did you observe any interesting relationships between the other features (not the main feature(s) of interest)?\n",
    "\n",
    "> One other feature of interest was the duration of the loans. **Before 2009, only 3Y loans were offered**, which obviously makes the analysis by loan term more complex. Also, a lot of defaulted/charged off loans were closed in 2009. \n",
    "> \n",
    "> Among the completed loans, ie excluding current and past due, generally speaking **1Y and 3Y loans lasted the whole term**, whereas **5Y loans were completed earlier**. \n",
    ">\n",
    "> However, this might due to the fact that the first 5Y loan was created in 2010 and the dataset is until 2014 so we would **need data for the following years** as well to make conclusions on whether 5Y loans get repaid earlier or not. \n",
    ">\n",
    "> Another interesting insight is that, even though the most common loan categories remain the same across the different loan terms, higher the term, **higher is the proportion of loans for Debt Consolidation**."
   ]
  },
  {
   "cell_type": "markdown",
   "metadata": {},
   "source": [
    "## Multivariate Exploration\n",
    "\n",
    "> Here we look at Loan Status, mainly Defaulted and Charged Off loans, term and duration (ie closed date - creation date).\n",
    "\n",
    "### Difference between Term and Duration\n"
   ]
  },
  {
   "cell_type": "code",
   "execution_count": 98,
   "metadata": {},
   "outputs": [],
   "source": [
    "df_loans['TimeDiff'] = df_loans['Term']- df_loans['months']\n",
    "\n",
    "def new_column(x):\n",
    "    if x<-12:\n",
    "        return \"Closed >1Y after term date\"\n",
    "    if x <0 and x>=-12:\n",
    "        return \"Closed <1Y after term date\"\n",
    "    elif x>=0 and x<=12:\n",
    "        return \"Closed <1Y before term date\"\n",
    "    elif x>12 and x<25:\n",
    "        return \"Closed 1Y-2Y before term date\"\n",
    "    elif x>24 and x<37:\n",
    "        return \"Closed 2Y-3Y before term date\"\n",
    "    elif x>36 and x<49:\n",
    "        return \"Closed 3Y-4Y before term date\"\n",
    "    elif x>48 and x<61:\n",
    "        return \"Closed 4Y-5Y before term date\"\n",
    "    \n",
    "df_loans['TimeDiff_Cat'] = df_loans['TimeDiff'].apply(lambda t:new_column(t))"
   ]
  },
  {
   "cell_type": "code",
   "execution_count": 99,
   "metadata": {},
   "outputs": [
    {
     "data": {
      "image/png": "[encoded data removed]",
      "text/plain": [
       "<Figure size 720x360 with 1 Axes>"
      ]
     },
     "metadata": {
      "needs_background": "light"
     },
     "output_type": "display_data"
    }
   ],
   "source": [
    "fig = plt.figure(figsize = (10,5))\n",
    "plt.hist(data = df_loans, x = 'TimeDiff');"
   ]
  },
  {
   "cell_type": "code",
   "execution_count": 100,
   "metadata": {},
   "outputs": [],
   "source": [
    "default_off_cat = df_loans[df_loans['LoanStatus'].isin(['Chargedoff', 'Defaulted'])]\n",
    "total_default_off = default_off_cat[default_off_cat['TimeDiff_Cat'].notnull()]['ListingNumber'].count()"
   ]
  },
  {
   "cell_type": "code",
   "execution_count": 101,
   "metadata": {},
   "outputs": [
    {
     "data": {
      "image/png": "[encoded data removed]",
      "text/plain": [
       "<Figure size 720x360 with 1 Axes>"
      ]
     },
     "metadata": {
      "needs_background": "light"
     },
     "output_type": "display_data"
    }
   ],
   "source": [
    "fig = plt.figure(figsize = (10,5))\n",
    "plt.hist(data=default_off_cat, x = 'TimeDiff'); "
   ]
  },
  {
   "cell_type": "markdown",
   "metadata": {},
   "source": [
    "> While loans in general seem to be closed according to the original term, charged off and defaulted loans are generally closed earlier, but let's take a closer look. "
   ]
  },
  {
   "cell_type": "code",
   "execution_count": 102,
   "metadata": {},
   "outputs": [
    {
     "data": {
      "image/png": "[encoded data removed]",
      "text/plain": [
       "<Figure size 720x360 with 1 Axes>"
      ]
     },
     "metadata": {
      "needs_background": "light"
     },
     "output_type": "display_data"
    }
   ],
   "source": [
    "total = df_loans[df_loans['TimeDiff_Cat'].notnull()]['ListingNumber'].count()\n",
    "order_time = [\"Closed >1Y after term date\", 'Closed <1Y after term date', 'Closed <1Y before term date', 'Closed 1Y-2Y before term date', \"Closed 2Y-3Y before term date\", \"Closed 3Y-4Y before term date\", \"Closed 4Y-5Y before term date\"]\n",
    "\n",
    "fig = plt.figure(figsize = (10,5))\n",
    "time = sb.countplot(data = df_loans, x = 'TimeDiff_Cat', color = base, order = order_time)\n",
    "plt.xticks(rotation=90)\n",
    "\n",
    "for p in time.patches:\n",
    "    height = p.get_height()\n",
    "    time.text(p.get_x()+p.get_width()/2.,\n",
    "            height + 3,\n",
    "            '{:0.2f}'.format(height/total),\n",
    "            ha=\"center\");"
   ]
  },
  {
   "cell_type": "code",
   "execution_count": 103,
   "metadata": {},
   "outputs": [
    {
     "data": {
      "image/png": "[encoded data removed]",
      "text/plain": [
       "<Figure size 720x360 with 1 Axes>"
      ]
     },
     "metadata": {
      "needs_background": "light"
     },
     "output_type": "display_data"
    }
   ],
   "source": [
    "fig = plt.figure(figsize = (10,5))\n",
    "time_off = sb.countplot(data = default_off_cat, x = 'TimeDiff_Cat', color = base, order = order_time)\n",
    "plt.xticks(rotation=90)\n",
    "\n",
    "for p in time_off.patches:\n",
    "    height = p.get_height()\n",
    "    time_off.text(p.get_x()+p.get_width()/2.,\n",
    "            height + 3,\n",
    "            '{:0.2f}'.format(height/total_default_off),\n",
    "            ha=\"center\");"
   ]
  },
  {
   "cell_type": "markdown",
   "metadata": {},
   "source": [
    "> As most of the loans are 3Y let's focus on those."
   ]
  },
  {
   "cell_type": "code",
   "execution_count": 104,
   "metadata": {},
   "outputs": [
    {
     "data": {
      "image/png": "[encoded data removed]",
      "text/plain": [
       "<Figure size 720x360 with 1 Axes>"
      ]
     },
     "metadata": {
      "needs_background": "light"
     },
     "output_type": "display_data"
    }
   ],
   "source": [
    "df_loans_3 = df_loans[df_loans['Term']==36]\n",
    "total_3 = df_loans_3[df_loans_3['TimeDiff_Cat'].notnull()]['ListingNumber'].count()\n",
    "order_time_3 = [\"Closed >1Y after term date\", 'Closed <1Y after term date', 'Closed <1Y before term date', 'Closed 1Y-2Y before term date', \"Closed 2Y-3Y before term date\"]\n",
    "\n",
    "fig = plt.figure(figsize = (10,5))\n",
    "time_3 = sb.countplot(data = df_loans_3, x = 'TimeDiff_Cat', color = base, order = order_time_3)\n",
    "plt.xticks(rotation=90)\n",
    "\n",
    "for p in time_3.patches:\n",
    "    height = p.get_height()\n",
    "    time_3.text(p.get_x()+p.get_width()/2.,\n",
    "            height + 3,\n",
    "            '{:0.2f}'.format(height/total_3),\n",
    "            ha=\"center\");"
   ]
  },
  {
   "cell_type": "code",
   "execution_count": 105,
   "metadata": {},
   "outputs": [
    {
     "data": {
      "image/png": "[encoded data removed]",
      "text/plain": [
       "<Figure size 720x360 with 1 Axes>"
      ]
     },
     "metadata": {
      "needs_background": "light"
     },
     "output_type": "display_data"
    }
   ],
   "source": [
    "default_off_3 = default_off_cat[default_off_cat['Term']==36]\n",
    "total_default_off_3 = default_off_3[default_off_3['TimeDiff_Cat'].notnull()]['ListingNumber'].count()\n",
    "order_time_3 = [\"Closed >1Y after term date\", 'Closed <1Y after term date', 'Closed <1Y before term date', 'Closed 1Y-2Y before term date', \"Closed 2Y-3Y before term date\"]\n",
    "\n",
    "fig = plt.figure(figsize = (10,5))\n",
    "time_off_3 = sb.countplot(data = default_off_3, x = 'TimeDiff_Cat', color = base, order = order_time_3)\n",
    "plt.xticks(rotation=90)\n",
    "\n",
    "for p in time_off_3.patches:\n",
    "    height = p.get_height()\n",
    "    time_off_3.text(p.get_x()+p.get_width()/2.,\n",
    "            height + 3,\n",
    "            '{:0.2f}'.format(height/total_default_off_3),\n",
    "            ha=\"center\");"
   ]
  },
  {
   "cell_type": "markdown",
   "metadata": {},
   "source": [
    "> Various insights can be drawn from the above:\n",
    "- 18% of the overall population of loans is closed after the term final date whereas this is true for 4% of the defaulted/ charged off loans. This is a sign that loans that are meant to default get identified generally earlier than the final date, which is a good thing for Prosper\n",
    "- If we look at 3Y loans only, these values become 19% for the overall population and 5% for the defaulted/charged off ones\n",
    "- 31% of the 3Y loans meant to default or be charged off are closed in the first year. This shows that for almost a third of the loans that ended up being charged off or defaulted, signs of financial distress could be seen quite soon, maybe even at the first due payments. 43% were closed between 1 and 2 years before term date and both percentages are higher than the ones for the overall population. \n",
    "\n",
    "### Credit Rating vs Homeowner vs Loan Status\n",
    "> Here we investigate the relationship between credit rating, being a homeowner and charged off/defaulted loans."
   ]
  },
  {
   "cell_type": "code",
   "execution_count": 106,
   "metadata": {},
   "outputs": [
    {
     "data": {
      "text/plain": [
       "(17000, 15)"
      ]
     },
     "execution_count": 106,
     "metadata": {},
     "output_type": "execute_result"
    }
   ],
   "source": [
    "default_off.shape"
   ]
  },
  {
   "cell_type": "code",
   "execution_count": 107,
   "metadata": {},
   "outputs": [
    {
     "data": {
      "text/plain": [
       "Current                   55157\n",
       "Completed                 37921\n",
       "Chargedoff                11986\n",
       "Defaulted                  5014\n",
       "Past Due (1-15 days)        805\n",
       "Past Due (31-60 days)       363\n",
       "Past Due (61-90 days)       312\n",
       "Past Due (91-120 days)      304\n",
       "Past Due (16-30 days)       265\n",
       "FinalPaymentInProgress      202\n",
       "Past Due (>120 days)         16\n",
       "Cancelled                     5\n",
       "Name: LoanStatus, dtype: int64"
      ]
     },
     "execution_count": 107,
     "metadata": {},
     "output_type": "execute_result"
    }
   ],
   "source": [
    "df_loans.LoanStatus.value_counts()"
   ]
  },
  {
   "cell_type": "code",
   "execution_count": 142,
   "metadata": {},
   "outputs": [],
   "source": [
    "df_loans['Rating'] = df_loans.Rating.astype(str)\n",
    "multi = pd.DataFrame(default_off.groupby(['IsBorrowerHomeowner', 'Rating'])['ListingNumber'].count()).reset_index()\n",
    "multi['Rating'] = multi['Rating'].astype(str)"
   ]
  },
  {
   "cell_type": "code",
   "execution_count": 143,
   "metadata": {},
   "outputs": [],
   "source": [
    "multi_aggr = pd.DataFrame(df_loans.groupby('Rating')['ListingNumber'].count()).reset_index()"
   ]
  },
  {
   "cell_type": "code",
   "execution_count": 144,
   "metadata": {},
   "outputs": [],
   "source": [
    "multi_visual = multi.merge(multi_aggr, on = 'Rating', how = 'left')"
   ]
  },
  {
   "cell_type": "code",
   "execution_count": 145,
   "metadata": {},
   "outputs": [],
   "source": [
    "multi_visual['Proportion'] = multi_visual['ListingNumber_x']/multi_visual['ListingNumber_y']"
   ]
  },
  {
   "cell_type": "code",
   "execution_count": 146,
   "metadata": {},
   "outputs": [
    {
     "data": {
      "image/png": "[encoded data removed]",
      "text/plain": [
       "<Figure size 720x360 with 1 Axes>"
      ]
     },
     "metadata": {
      "needs_background": "light"
     },
     "output_type": "display_data"
    }
   ],
   "source": [
    "fig = plt.figure(figsize = (10,5))\n",
    "\n",
    "score_home_final = sb.barplot(data = multi_visual, x = 'Rating', y = 'Proportion', hue = 'IsBorrowerHomeowner')"
   ]
  },
  {
   "cell_type": "code",
   "execution_count": 147,
   "metadata": {},
   "outputs": [
    {
     "data": {
      "image/png": "[encoded data removed]",
      "text/plain": [
       "<Figure size 1080x720 with 1 Axes>"
      ]
     },
     "metadata": {
      "needs_background": "light"
     },
     "output_type": "display_data"
    }
   ],
   "source": [
    "fig = plt.figure(figsize = (15,10))\n",
    "\n",
    "score_home_final = sb.barplot(data = multi_visual, x = 'Rating', y = 'Proportion', hue = 'IsBorrowerHomeowner')\n",
    "\n",
    "for rect in score_home_final.patches:\n",
    "        height = rect.get_height()\n",
    "        score_home_final.text(rect.get_x() + rect.get_width()/2., 1.02*height,\n",
    "                '{:0.2f}'.format(height),\n",
    "                ha='center', va='bottom')"
   ]
  },
  {
   "cell_type": "code",
   "execution_count": 115,
   "metadata": {},
   "outputs": [],
   "source": [
    "df_loans.to_csv('main.csv')"
   ]
  },
  {
   "cell_type": "code",
   "execution_count": 116,
   "metadata": {},
   "outputs": [],
   "source": [
    "default_off.to_csv('default.csv')"
   ]
  },
  {
   "cell_type": "markdown",
   "metadata": {},
   "source": [
    "> If we look at the first proportion (11%), this shows that 11% of the borrowers with rating equal to 1 are non-homeowners and defaulted or got loans charged off. \n",
    ">\n",
    "> Around 50% of the high risk borrowers are non-homeowners that defaulted or got their loans charged off. In total, 61% of the HR borrowers, either homeowners or not, are in this interest group. \n",
    ">\n",
    "> As a general trend, we can note that lower rating means a higher proportion of defaulted or charged off loans (21% of the loans with rating equal to 1 and 40% of the loans with rating equal to D defaulted or got charged off). \n",
    ">\n",
    "> Also, generally speaking non-homeowners defaulted more than others as we can see their predominance apart from the very high ratings where there is a much higher percentage of homeowners.\n",
    ">\n",
    "> In summary, it seems that owning a home and credit rating are good indicators of likelihood of default.\n"
   ]
  },
  {
   "cell_type": "markdown",
   "metadata": {},
   "source": [
    "### Talk about some of the relationships you observed in this part of the investigation. Were there features that strengthened each other in terms of looking at your feature(s) of interest?\n",
    "\n",
    ">  During the last phase of this exploratory analysis, it became obvious that owning a home and credit rating are good indicators of loan default (or writing off). For instance, 61% of the HR loans defaulted/ got charged off and the majority of these were non-homeowners.\n",
    "\n",
    "### Were there any interesting or surprising interactions between features?\n",
    "\n",
    "> I expected defaulted/ charged off loans to be closed mostly after the final term date. However, 18% of the overall population of loans is closed after the term final date whereas this is true for only 4% of the defaulted/ charged off loans. This is a sign that loans that are meant to default get identified generally earlier than the final date, which is a good thing for Prosper."
   ]
  },
  {
   "cell_type": "code",
   "execution_count": null,
   "metadata": {},
   "outputs": [],
   "source": []
  }
 ],
 "metadata": {
  "kernelspec": {
   "display_name": "Python 3",
   "language": "python",
   "name": "python3"
  },
  "language_info": {
   "codemirror_mode": {
    "name": "ipython",
    "version": 3
   },
   "file_extension": ".py",
   "mimetype": "text/x-python",
   "name": "python",
   "nbconvert_exporter": "python",
   "pygments_lexer": "ipython3",
   "version": "3.7.0"
  }
 },
 "nbformat": 4,
 "nbformat_minor": 2
}
